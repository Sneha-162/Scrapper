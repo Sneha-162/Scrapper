{
 "cells": [
  {
   "cell_type": "markdown",
   "metadata": {},
   "source": [
    "Web scraping is the process of extracting and parsing data from websites in an automated fashion using a computer program. It's a useful technique for creating datasets for research and learning. Follow these steps to build a web scraping project from scratch using Python and its ecosystem of libraries:\n"
   ]
  },
  {
   "cell_type": "markdown",
   "metadata": {},
   "source": [
    "1. Use the request library to Download a Webpage"
   ]
  },
  {
   "cell_type": "code",
   "execution_count": 6,
   "metadata": {},
   "outputs": [],
   "source": [
    "import requests"
   ]
  },
  {
   "cell_type": "code",
   "execution_count": 7,
   "metadata": {},
   "outputs": [],
   "source": [
    "url = \"https://github.com/topics\"\n",
    "response = requests.get(url)"
   ]
  },
  {
   "cell_type": "code",
   "execution_count": 8,
   "metadata": {},
   "outputs": [
    {
     "data": {
      "text/plain": [
       "200"
      ]
     },
     "execution_count": 8,
     "metadata": {},
     "output_type": "execute_result"
    }
   ],
   "source": [
    "response.status_code"
   ]
  },
  {
   "cell_type": "code",
   "execution_count": 9,
   "metadata": {},
   "outputs": [
    {
     "data": {
      "text/plain": [
       "206142"
      ]
     },
     "execution_count": 9,
     "metadata": {},
     "output_type": "execute_result"
    }
   ],
   "source": [
    "len(response.text)\n"
   ]
  },
  {
   "cell_type": "code",
   "execution_count": 10,
   "metadata": {},
   "outputs": [],
   "source": [
    "page_content = response.text"
   ]
  },
  {
   "cell_type": "code",
   "execution_count": 11,
   "metadata": {},
   "outputs": [
    {
     "data": {
      "text/plain": [
       "'\\n\\n<!DOCTYPE html>\\n<html\\n  lang=\"en\"\\n  \\n  data-color-mode=\"auto\" data-light-theme=\"light\" data-dark-theme=\"dark\"\\n  data-a11y-animated-images=\"system\" data-a11y-link-underlines=\"true\"\\n  \\n  >\\n\\n\\n\\n  <head>\\n    <meta charset=\"utf-8\">\\n  <link rel=\"dns-prefetch\" href=\"https://github.githubassets.com\">\\n  <link rel=\"dns-prefetch\" href=\"https://avatars.githubusercontent.com\">\\n  <link rel=\"dns-prefetch\" href=\"https://github-cloud.s3.amazonaws.com\">\\n  <link rel=\"dns-prefetch\" href=\"https://user-images.githubusercontent.com/\">\\n  <link rel=\"preconnect\" href=\"https://github.githubassets.com\" crossorigin>\\n  <link rel=\"preconnect\" href=\"https://avatars.githubusercontent.com\">\\n\\n  \\n\\n  <link crossorigin=\"anonymous\" media=\"all\" rel=\"stylesheet\" href=\"https://github.githubassets.com/assets/light-7aa84bb7e11e.css\" /><link crossorigin=\"anonymous\" media=\"all\" rel=\"stylesheet\" href=\"https://github.githubassets.com/assets/dark-f65db3e8d171.css\" /><link data-color-theme=\"dark_dimmed\" crossorigin=\"anonymous\" media='"
      ]
     },
     "execution_count": 11,
     "metadata": {},
     "output_type": "execute_result"
    }
   ],
   "source": [
    "page_content[:1000]"
   ]
  },
  {
   "cell_type": "code",
   "execution_count": 12,
   "metadata": {},
   "outputs": [],
   "source": [
    "with open('webpage.html', 'w', encoding='utf-8') as f:\n",
    "    f.write(page_content)"
   ]
  },
  {
   "cell_type": "markdown",
   "metadata": {},
   "source": [
    "2. Use Beautifulsoup to parse and Extarct Information"
   ]
  },
  {
   "cell_type": "code",
   "execution_count": 13,
   "metadata": {},
   "outputs": [],
   "source": [
    "from bs4 import BeautifulSoup"
   ]
  },
  {
   "cell_type": "code",
   "execution_count": 14,
   "metadata": {},
   "outputs": [],
   "source": [
    "soup = BeautifulSoup(page_content, 'html.parser')"
   ]
  },
  {
   "cell_type": "code",
   "execution_count": 15,
   "metadata": {},
   "outputs": [
    {
     "data": {
      "text/plain": [
       "bs4.BeautifulSoup"
      ]
     },
     "execution_count": 15,
     "metadata": {},
     "output_type": "execute_result"
    }
   ],
   "source": [
    "type(soup)\n"
   ]
  },
  {
   "cell_type": "code",
   "execution_count": 16,
   "metadata": {},
   "outputs": [
    {
     "name": "stdout",
     "output_type": "stream",
     "text": [
      "3D\n",
      "Ajax\n",
      "Algorithm\n",
      "Amp\n",
      "Android\n",
      "Angular\n",
      "Ansible\n",
      "API\n",
      "Arduino\n",
      "ASP.NET\n",
      "Awesome Lists\n",
      "Amazon Web Services\n",
      "Azure\n",
      "Babel\n",
      "Bash\n",
      "Bitcoin\n",
      "Bootstrap\n",
      "Bot\n",
      "C\n",
      "Chrome\n",
      "Chrome extension\n",
      "Command-line interface\n",
      "Clojure\n",
      "Code quality\n",
      "Code review\n",
      "Compiler\n",
      "Continuous integration\n",
      "C++\n",
      "Cryptocurrency\n",
      "Crystal\n"
     ]
    }
   ],
   "source": [
    "class_name = 'f3 lh-condensed mb-0 mt-1 Link--primary'\n",
    "topic_title_tags = soup.find_all('p', {'class': class_name})\n",
    "\n",
    "# Ensure that topic_title_tags is not empty\n",
    "if topic_title_tags:\n",
    "    for tag in topic_title_tags:\n",
    "        text = tag.text.strip()  # Strip the text from each tag\n",
    "        print(text)  # Output the cleaned text\n",
    "else:\n",
    "    print(\"No tags found with that class!\")"
   ]
  },
  {
   "cell_type": "code",
   "execution_count": 17,
   "metadata": {},
   "outputs": [
    {
     "name": "stdout",
     "output_type": "stream",
     "text": [
      "3D refers to the use of three-dimensional graphics, modeling, and animation in various industries.\n",
      "Ajax is a technique for creating interactive web applications.\n",
      "Algorithms are self-contained sequences that carry out a variety of tasks.\n",
      "Amp is a non-blocking concurrency library for PHP.\n",
      "Android is an operating system built by Google designed for mobile devices.\n",
      "Angular is an open source web application platform.\n",
      "Ansible is a simple and powerful automation engine.\n",
      "An API (Application Programming Interface) is a collection of protocols and subroutines for building software.\n",
      "Arduino is an open source platform for building electronic devices.\n",
      "ASP.NET is a web framework for building modern web apps and services.\n",
      "An awesome list is a list of awesome things curated by the community.\n",
      "Amazon Web Services provides on-demand cloud computing platforms on a subscription basis.\n",
      "Azure is a cloud computing service created by Microsoft.\n",
      "Babel is a compiler for writing next generation JavaScript, today.\n",
      "Bash is a shell and command language interpreter for the GNU operating system.\n",
      "Bitcoin is a cryptocurrency developed by Satoshi Nakamoto.\n",
      "Bootstrap is an HTML, CSS, and JavaScript framework.\n",
      "A bot is an application that runs automated tasks over the Internet.\n",
      "C is a general purpose programming language that first appeared in 1972.\n",
      "Chrome is a web browser from the tech company Google.\n",
      "Chrome extensions enable users to customize the Chrome browsing experience.\n",
      "A CLI, or command-line interface, is a console that helps users issue commands to a program.\n",
      "Clojure is a dynamic, general-purpose programming language.\n",
      "Automate your code review with style, quality, security, and test‑coverage checks when you need them.\n",
      "Ensure your code meets quality standards and ship with confidence.\n",
      "Compilers are software that translate higher-level programming languages to lower-level languages (e.g. machine code).\n",
      "Automatically build and test your code as you push it upstream, preventing bugs from being deployed to production.\n",
      "C++ is a general purpose and object-oriented programming language.\n",
      "A cryptocurrency is a digital currency that uses cryptography.\n",
      "Crystal is a self-hosted, general purpose programming language.\n"
     ]
    }
   ],
   "source": [
    "disc_class = 'f5 color-fg-muted mb-0 mt-1'\n",
    "topic_disc_tag = soup.find_all('p',{'class' : disc_class})\n",
    "\n",
    "\n",
    "# Ensure that topic_title_tags is not empty\n",
    "if topic_disc_tag:\n",
    "    for tag in topic_disc_tag:\n",
    "        text = tag.text.strip()  # Strip the text from each tag\n",
    "        print(text)  # Output the cleaned text"
   ]
  },
  {
   "cell_type": "code",
   "execution_count": 18,
   "metadata": {},
   "outputs": [
    {
     "data": {
      "text/plain": [
       "[<p class=\"f5 color-fg-muted mb-0 mt-1\">\n",
       "           3D refers to the use of three-dimensional graphics, modeling, and animation in various industries.\n",
       "         </p>,\n",
       " <p class=\"f5 color-fg-muted mb-0 mt-1\">\n",
       "           Ajax is a technique for creating interactive web applications.\n",
       "         </p>,\n",
       " <p class=\"f5 color-fg-muted mb-0 mt-1\">\n",
       "           Algorithms are self-contained sequences that carry out a variety of tasks.\n",
       "         </p>,\n",
       " <p class=\"f5 color-fg-muted mb-0 mt-1\">\n",
       "           Amp is a non-blocking concurrency library for PHP.\n",
       "         </p>,\n",
       " <p class=\"f5 color-fg-muted mb-0 mt-1\">\n",
       "           Android is an operating system built by Google designed for mobile devices.\n",
       "         </p>,\n",
       " <p class=\"f5 color-fg-muted mb-0 mt-1\">\n",
       "           Angular is an open source web application platform.\n",
       "         </p>,\n",
       " <p class=\"f5 color-fg-muted mb-0 mt-1\">\n",
       "           Ansible is a simple and powerful automation engine.\n",
       "         </p>,\n",
       " <p class=\"f5 color-fg-muted mb-0 mt-1\">\n",
       "           An API (Application Programming Interface) is a collection of protocols and subroutines for building software.\n",
       "         </p>,\n",
       " <p class=\"f5 color-fg-muted mb-0 mt-1\">\n",
       "           Arduino is an open source platform for building electronic devices.\n",
       "         </p>,\n",
       " <p class=\"f5 color-fg-muted mb-0 mt-1\">\n",
       "           ASP.NET is a web framework for building modern web apps and services.\n",
       "         </p>,\n",
       " <p class=\"f5 color-fg-muted mb-0 mt-1\">\n",
       "           An awesome list is a list of awesome things curated by the community.\n",
       "         </p>,\n",
       " <p class=\"f5 color-fg-muted mb-0 mt-1\">\n",
       "           Amazon Web Services provides on-demand cloud computing platforms on a subscription basis.\n",
       "         </p>,\n",
       " <p class=\"f5 color-fg-muted mb-0 mt-1\">\n",
       "           Azure is a cloud computing service created by Microsoft.\n",
       "         </p>,\n",
       " <p class=\"f5 color-fg-muted mb-0 mt-1\">\n",
       "           Babel is a compiler for writing next generation JavaScript, today.\n",
       "         </p>,\n",
       " <p class=\"f5 color-fg-muted mb-0 mt-1\">\n",
       "           Bash is a shell and command language interpreter for the GNU operating system.\n",
       "         </p>,\n",
       " <p class=\"f5 color-fg-muted mb-0 mt-1\">\n",
       "           Bitcoin is a cryptocurrency developed by Satoshi Nakamoto.\n",
       "         </p>,\n",
       " <p class=\"f5 color-fg-muted mb-0 mt-1\">\n",
       "           Bootstrap is an HTML, CSS, and JavaScript framework.\n",
       "         </p>,\n",
       " <p class=\"f5 color-fg-muted mb-0 mt-1\">\n",
       "           A bot is an application that runs automated tasks over the Internet.\n",
       "         </p>,\n",
       " <p class=\"f5 color-fg-muted mb-0 mt-1\">\n",
       "           C is a general purpose programming language that first appeared in 1972.\n",
       "         </p>,\n",
       " <p class=\"f5 color-fg-muted mb-0 mt-1\">\n",
       "           Chrome is a web browser from the tech company Google.\n",
       "         </p>,\n",
       " <p class=\"f5 color-fg-muted mb-0 mt-1\">\n",
       "           Chrome extensions enable users to customize the Chrome browsing experience.\n",
       "         </p>,\n",
       " <p class=\"f5 color-fg-muted mb-0 mt-1\">\n",
       "           A CLI, or command-line interface, is a console that helps users issue commands to a program.\n",
       "         </p>,\n",
       " <p class=\"f5 color-fg-muted mb-0 mt-1\">\n",
       "           Clojure is a dynamic, general-purpose programming language.\n",
       "         </p>,\n",
       " <p class=\"f5 color-fg-muted mb-0 mt-1\">\n",
       "           Automate your code review with style, quality, security, and test‑coverage checks when you need them.\n",
       "         </p>,\n",
       " <p class=\"f5 color-fg-muted mb-0 mt-1\">\n",
       "           Ensure your code meets quality standards and ship with confidence.\n",
       "         </p>,\n",
       " <p class=\"f5 color-fg-muted mb-0 mt-1\">\n",
       "           Compilers are software that translate higher-level programming languages to lower-level languages (e.g. machine code).\n",
       "         </p>,\n",
       " <p class=\"f5 color-fg-muted mb-0 mt-1\">\n",
       "           Automatically build and test your code as you push it upstream, preventing bugs from being deployed to production.\n",
       "         </p>,\n",
       " <p class=\"f5 color-fg-muted mb-0 mt-1\">\n",
       "           C++ is a general purpose and object-oriented programming language.\n",
       "         </p>,\n",
       " <p class=\"f5 color-fg-muted mb-0 mt-1\">\n",
       "           A cryptocurrency is a digital currency that uses cryptography.\n",
       "         </p>,\n",
       " <p class=\"f5 color-fg-muted mb-0 mt-1\">\n",
       "           Crystal is a self-hosted, general purpose programming language.\n",
       "         </p>]"
      ]
     },
     "execution_count": 18,
     "metadata": {},
     "output_type": "execute_result"
    }
   ],
   "source": [
    "topic_disc_tag"
   ]
  },
  {
   "cell_type": "code",
   "execution_count": 19,
   "metadata": {},
   "outputs": [],
   "source": [
    "topic_title_tag0 = topic_title_tags[0]"
   ]
  },
  {
   "cell_type": "code",
   "execution_count": 20,
   "metadata": {},
   "outputs": [
    {
     "data": {
      "text/plain": [
       "<a class=\"no-underline flex-1 d-flex flex-column\" href=\"/topics/3d\">\n",
       "<p class=\"f3 lh-condensed mb-0 mt-1 Link--primary\">3D</p>\n",
       "<p class=\"f5 color-fg-muted mb-0 mt-1\">\n",
       "          3D refers to the use of three-dimensional graphics, modeling, and animation in various industries.\n",
       "        </p>\n",
       "</a>"
      ]
     },
     "execution_count": 20,
     "metadata": {},
     "output_type": "execute_result"
    }
   ],
   "source": [
    "topic_title_tag0.parent"
   ]
  },
  {
   "cell_type": "code",
   "execution_count": 21,
   "metadata": {},
   "outputs": [],
   "source": [
    "url_class = 'no-underline flex-grow-0'\n",
    "topic_link_tags = soup.find_all('a',{'class':url_class})"
   ]
  },
  {
   "cell_type": "code",
   "execution_count": 22,
   "metadata": {},
   "outputs": [
    {
     "data": {
      "text/plain": [
       "[<a class=\"no-underline flex-grow-0\" href=\"/topics/3d\">\n",
       " <div class=\"color-bg-accent f4 color-fg-muted text-bold rounded mr-3 flex-shrink-0 text-center\" style=\"width:64px; height:64px; line-height:64px;\">\n",
       "             #\n",
       "           </div>\n",
       " </a>,\n",
       " <a class=\"no-underline flex-grow-0\" href=\"/topics/ajax\">\n",
       " <img alt=\"ajax\" class=\"rounded mr-3\" height=\"64\" src=\"https://raw.githubusercontent.com/github/explore/8be26d91eb231fec0b8856359979ac09f27173fd/topics/ajax/ajax.png\" width=\"64\"/>\n",
       " </a>,\n",
       " <a class=\"no-underline flex-grow-0\" href=\"/topics/algorithm\">\n",
       " <div class=\"color-bg-accent f4 color-fg-muted text-bold rounded mr-3 flex-shrink-0 text-center\" style=\"width:64px; height:64px; line-height:64px;\">\n",
       "             #\n",
       "           </div>\n",
       " </a>,\n",
       " <a class=\"no-underline flex-grow-0\" href=\"/topics/amphp\">\n",
       " <img alt=\"amphp\" class=\"rounded mr-3\" height=\"64\" src=\"https://raw.githubusercontent.com/github/explore/99fe59c0f4fb5d6545311440b4ce89a0d82b0804/topics/amphp/amphp.png\" width=\"64\"/>\n",
       " </a>,\n",
       " <a class=\"no-underline flex-grow-0\" href=\"/topics/android\">\n",
       " <img alt=\"android\" class=\"rounded mr-3\" height=\"64\" src=\"https://raw.githubusercontent.com/github/explore/8baf984947f4d9c32006bd03fa4c51ff91aadf8d/topics/android/android.png\" width=\"64\"/>\n",
       " </a>]"
      ]
     },
     "execution_count": 22,
     "metadata": {},
     "output_type": "execute_result"
    }
   ],
   "source": [
    "topic_link_tags[:5]"
   ]
  },
  {
   "cell_type": "code",
   "execution_count": 23,
   "metadata": {},
   "outputs": [],
   "source": [
    "topics_url = []\n",
    "base_url = \"https://github.com/\"\n",
    "\n",
    "for tag in topic_link_tags:\n",
    "    topics_url.append(base_url + tag['href'])\n"
   ]
  },
  {
   "cell_type": "code",
   "execution_count": 24,
   "metadata": {},
   "outputs": [
    {
     "data": {
      "text/plain": [
       "['https://github.com//topics/3d',\n",
       " 'https://github.com//topics/ajax',\n",
       " 'https://github.com//topics/algorithm',\n",
       " 'https://github.com//topics/amphp',\n",
       " 'https://github.com//topics/android',\n",
       " 'https://github.com//topics/angular',\n",
       " 'https://github.com//topics/ansible',\n",
       " 'https://github.com//topics/api',\n",
       " 'https://github.com//topics/arduino',\n",
       " 'https://github.com//topics/aspnet',\n",
       " 'https://github.com//topics/awesome',\n",
       " 'https://github.com//topics/aws',\n",
       " 'https://github.com//topics/azure',\n",
       " 'https://github.com//topics/babel',\n",
       " 'https://github.com//topics/bash',\n",
       " 'https://github.com//topics/bitcoin',\n",
       " 'https://github.com//topics/bootstrap',\n",
       " 'https://github.com//topics/bot',\n",
       " 'https://github.com//topics/c',\n",
       " 'https://github.com//topics/chrome',\n",
       " 'https://github.com//topics/chrome-extension',\n",
       " 'https://github.com//topics/cli',\n",
       " 'https://github.com//topics/clojure',\n",
       " 'https://github.com//topics/code-quality',\n",
       " 'https://github.com//topics/code-review',\n",
       " 'https://github.com//topics/compiler',\n",
       " 'https://github.com//topics/continuous-integration',\n",
       " 'https://github.com//topics/cpp',\n",
       " 'https://github.com//topics/cryptocurrency',\n",
       " 'https://github.com//topics/crystal']"
      ]
     },
     "execution_count": 24,
     "metadata": {},
     "output_type": "execute_result"
    }
   ],
   "source": [
    "topics_url"
   ]
  },
  {
   "cell_type": "code",
   "execution_count": 25,
   "metadata": {},
   "outputs": [],
   "source": [
    "import pandas as pd"
   ]
  },
  {
   "cell_type": "code",
   "execution_count": 26,
   "metadata": {},
   "outputs": [],
   "source": [
    "topics_dict ={\n",
    "    \"title\" : topic_title_tags,\n",
    "    \"Discription\" : topic_disc_tag,\n",
    "    \"url\" : topics_url,\n",
    "}"
   ]
  },
  {
   "cell_type": "code",
   "execution_count": 27,
   "metadata": {},
   "outputs": [],
   "source": [
    "topics_df = pd.DataFrame(topics_dict)"
   ]
  },
  {
   "cell_type": "code",
   "execution_count": 28,
   "metadata": {},
   "outputs": [
    {
     "data": {
      "text/html": [
       "<div>\n",
       "<style scoped>\n",
       "    .dataframe tbody tr th:only-of-type {\n",
       "        vertical-align: middle;\n",
       "    }\n",
       "\n",
       "    .dataframe tbody tr th {\n",
       "        vertical-align: top;\n",
       "    }\n",
       "\n",
       "    .dataframe thead th {\n",
       "        text-align: right;\n",
       "    }\n",
       "</style>\n",
       "<table border=\"1\" class=\"dataframe\">\n",
       "  <thead>\n",
       "    <tr style=\"text-align: right;\">\n",
       "      <th></th>\n",
       "      <th>title</th>\n",
       "      <th>Discription</th>\n",
       "      <th>url</th>\n",
       "    </tr>\n",
       "  </thead>\n",
       "  <tbody>\n",
       "    <tr>\n",
       "      <th>0</th>\n",
       "      <td>[3D]</td>\n",
       "      <td>[\\n          3D refers to the use of three-dim...</td>\n",
       "      <td>https://github.com//topics/3d</td>\n",
       "    </tr>\n",
       "    <tr>\n",
       "      <th>1</th>\n",
       "      <td>[Ajax]</td>\n",
       "      <td>[\\n          Ajax is a technique for creating ...</td>\n",
       "      <td>https://github.com//topics/ajax</td>\n",
       "    </tr>\n",
       "    <tr>\n",
       "      <th>2</th>\n",
       "      <td>[Algorithm]</td>\n",
       "      <td>[\\n          Algorithms are self-contained seq...</td>\n",
       "      <td>https://github.com//topics/algorithm</td>\n",
       "    </tr>\n",
       "    <tr>\n",
       "      <th>3</th>\n",
       "      <td>[Amp]</td>\n",
       "      <td>[\\n          Amp is a non-blocking concurrency...</td>\n",
       "      <td>https://github.com//topics/amphp</td>\n",
       "    </tr>\n",
       "    <tr>\n",
       "      <th>4</th>\n",
       "      <td>[Android]</td>\n",
       "      <td>[\\n          Android is an operating system bu...</td>\n",
       "      <td>https://github.com//topics/android</td>\n",
       "    </tr>\n",
       "    <tr>\n",
       "      <th>5</th>\n",
       "      <td>[Angular]</td>\n",
       "      <td>[\\n          Angular is an open source web app...</td>\n",
       "      <td>https://github.com//topics/angular</td>\n",
       "    </tr>\n",
       "    <tr>\n",
       "      <th>6</th>\n",
       "      <td>[Ansible]</td>\n",
       "      <td>[\\n          Ansible is a simple and powerful ...</td>\n",
       "      <td>https://github.com//topics/ansible</td>\n",
       "    </tr>\n",
       "    <tr>\n",
       "      <th>7</th>\n",
       "      <td>[API]</td>\n",
       "      <td>[\\n          An API (Application Programming I...</td>\n",
       "      <td>https://github.com//topics/api</td>\n",
       "    </tr>\n",
       "    <tr>\n",
       "      <th>8</th>\n",
       "      <td>[Arduino]</td>\n",
       "      <td>[\\n          Arduino is an open source platfor...</td>\n",
       "      <td>https://github.com//topics/arduino</td>\n",
       "    </tr>\n",
       "    <tr>\n",
       "      <th>9</th>\n",
       "      <td>[ASP.NET]</td>\n",
       "      <td>[\\n          ASP.NET is a web framework for bu...</td>\n",
       "      <td>https://github.com//topics/aspnet</td>\n",
       "    </tr>\n",
       "    <tr>\n",
       "      <th>10</th>\n",
       "      <td>[Awesome Lists]</td>\n",
       "      <td>[\\n          An awesome list is a list of awes...</td>\n",
       "      <td>https://github.com//topics/awesome</td>\n",
       "    </tr>\n",
       "    <tr>\n",
       "      <th>11</th>\n",
       "      <td>[Amazon Web Services]</td>\n",
       "      <td>[\\n          Amazon Web Services provides on-d...</td>\n",
       "      <td>https://github.com//topics/aws</td>\n",
       "    </tr>\n",
       "    <tr>\n",
       "      <th>12</th>\n",
       "      <td>[Azure]</td>\n",
       "      <td>[\\n          Azure is a cloud computing servic...</td>\n",
       "      <td>https://github.com//topics/azure</td>\n",
       "    </tr>\n",
       "    <tr>\n",
       "      <th>13</th>\n",
       "      <td>[Babel]</td>\n",
       "      <td>[\\n          Babel is a compiler for writing n...</td>\n",
       "      <td>https://github.com//topics/babel</td>\n",
       "    </tr>\n",
       "    <tr>\n",
       "      <th>14</th>\n",
       "      <td>[Bash]</td>\n",
       "      <td>[\\n          Bash is a shell and command langu...</td>\n",
       "      <td>https://github.com//topics/bash</td>\n",
       "    </tr>\n",
       "    <tr>\n",
       "      <th>15</th>\n",
       "      <td>[Bitcoin]</td>\n",
       "      <td>[\\n          Bitcoin is a cryptocurrency devel...</td>\n",
       "      <td>https://github.com//topics/bitcoin</td>\n",
       "    </tr>\n",
       "    <tr>\n",
       "      <th>16</th>\n",
       "      <td>[Bootstrap]</td>\n",
       "      <td>[\\n          Bootstrap is an HTML, CSS, and Ja...</td>\n",
       "      <td>https://github.com//topics/bootstrap</td>\n",
       "    </tr>\n",
       "    <tr>\n",
       "      <th>17</th>\n",
       "      <td>[Bot]</td>\n",
       "      <td>[\\n          A bot is an application that runs...</td>\n",
       "      <td>https://github.com//topics/bot</td>\n",
       "    </tr>\n",
       "    <tr>\n",
       "      <th>18</th>\n",
       "      <td>[C]</td>\n",
       "      <td>[\\n          C is a general purpose programmin...</td>\n",
       "      <td>https://github.com//topics/c</td>\n",
       "    </tr>\n",
       "    <tr>\n",
       "      <th>19</th>\n",
       "      <td>[Chrome]</td>\n",
       "      <td>[\\n          Chrome is a web browser from the ...</td>\n",
       "      <td>https://github.com//topics/chrome</td>\n",
       "    </tr>\n",
       "    <tr>\n",
       "      <th>20</th>\n",
       "      <td>[Chrome extension]</td>\n",
       "      <td>[\\n          Chrome extensions enable users to...</td>\n",
       "      <td>https://github.com//topics/chrome-extension</td>\n",
       "    </tr>\n",
       "    <tr>\n",
       "      <th>21</th>\n",
       "      <td>[Command-line interface]</td>\n",
       "      <td>[\\n          A CLI, or command-line interface,...</td>\n",
       "      <td>https://github.com//topics/cli</td>\n",
       "    </tr>\n",
       "    <tr>\n",
       "      <th>22</th>\n",
       "      <td>[Clojure]</td>\n",
       "      <td>[\\n          Clojure is a dynamic, general-pur...</td>\n",
       "      <td>https://github.com//topics/clojure</td>\n",
       "    </tr>\n",
       "    <tr>\n",
       "      <th>23</th>\n",
       "      <td>[Code quality]</td>\n",
       "      <td>[\\n          Automate your code review with st...</td>\n",
       "      <td>https://github.com//topics/code-quality</td>\n",
       "    </tr>\n",
       "    <tr>\n",
       "      <th>24</th>\n",
       "      <td>[Code review]</td>\n",
       "      <td>[\\n          Ensure your code meets quality st...</td>\n",
       "      <td>https://github.com//topics/code-review</td>\n",
       "    </tr>\n",
       "    <tr>\n",
       "      <th>25</th>\n",
       "      <td>[Compiler]</td>\n",
       "      <td>[\\n          Compilers are software that trans...</td>\n",
       "      <td>https://github.com//topics/compiler</td>\n",
       "    </tr>\n",
       "    <tr>\n",
       "      <th>26</th>\n",
       "      <td>[Continuous integration]</td>\n",
       "      <td>[\\n          Automatically build and test your...</td>\n",
       "      <td>https://github.com//topics/continuous-integration</td>\n",
       "    </tr>\n",
       "    <tr>\n",
       "      <th>27</th>\n",
       "      <td>[C++]</td>\n",
       "      <td>[\\n          C++ is a general purpose and obje...</td>\n",
       "      <td>https://github.com//topics/cpp</td>\n",
       "    </tr>\n",
       "    <tr>\n",
       "      <th>28</th>\n",
       "      <td>[Cryptocurrency]</td>\n",
       "      <td>[\\n          A cryptocurrency is a digital cur...</td>\n",
       "      <td>https://github.com//topics/cryptocurrency</td>\n",
       "    </tr>\n",
       "    <tr>\n",
       "      <th>29</th>\n",
       "      <td>[Crystal]</td>\n",
       "      <td>[\\n          Crystal is a self-hosted, general...</td>\n",
       "      <td>https://github.com//topics/crystal</td>\n",
       "    </tr>\n",
       "  </tbody>\n",
       "</table>\n",
       "</div>"
      ],
      "text/plain": [
       "                       title  \\\n",
       "0                       [3D]   \n",
       "1                     [Ajax]   \n",
       "2                [Algorithm]   \n",
       "3                      [Amp]   \n",
       "4                  [Android]   \n",
       "5                  [Angular]   \n",
       "6                  [Ansible]   \n",
       "7                      [API]   \n",
       "8                  [Arduino]   \n",
       "9                  [ASP.NET]   \n",
       "10           [Awesome Lists]   \n",
       "11     [Amazon Web Services]   \n",
       "12                   [Azure]   \n",
       "13                   [Babel]   \n",
       "14                    [Bash]   \n",
       "15                 [Bitcoin]   \n",
       "16               [Bootstrap]   \n",
       "17                     [Bot]   \n",
       "18                       [C]   \n",
       "19                  [Chrome]   \n",
       "20        [Chrome extension]   \n",
       "21  [Command-line interface]   \n",
       "22                 [Clojure]   \n",
       "23            [Code quality]   \n",
       "24             [Code review]   \n",
       "25                [Compiler]   \n",
       "26  [Continuous integration]   \n",
       "27                     [C++]   \n",
       "28          [Cryptocurrency]   \n",
       "29                 [Crystal]   \n",
       "\n",
       "                                          Discription  \\\n",
       "0   [\\n          3D refers to the use of three-dim...   \n",
       "1   [\\n          Ajax is a technique for creating ...   \n",
       "2   [\\n          Algorithms are self-contained seq...   \n",
       "3   [\\n          Amp is a non-blocking concurrency...   \n",
       "4   [\\n          Android is an operating system bu...   \n",
       "5   [\\n          Angular is an open source web app...   \n",
       "6   [\\n          Ansible is a simple and powerful ...   \n",
       "7   [\\n          An API (Application Programming I...   \n",
       "8   [\\n          Arduino is an open source platfor...   \n",
       "9   [\\n          ASP.NET is a web framework for bu...   \n",
       "10  [\\n          An awesome list is a list of awes...   \n",
       "11  [\\n          Amazon Web Services provides on-d...   \n",
       "12  [\\n          Azure is a cloud computing servic...   \n",
       "13  [\\n          Babel is a compiler for writing n...   \n",
       "14  [\\n          Bash is a shell and command langu...   \n",
       "15  [\\n          Bitcoin is a cryptocurrency devel...   \n",
       "16  [\\n          Bootstrap is an HTML, CSS, and Ja...   \n",
       "17  [\\n          A bot is an application that runs...   \n",
       "18  [\\n          C is a general purpose programmin...   \n",
       "19  [\\n          Chrome is a web browser from the ...   \n",
       "20  [\\n          Chrome extensions enable users to...   \n",
       "21  [\\n          A CLI, or command-line interface,...   \n",
       "22  [\\n          Clojure is a dynamic, general-pur...   \n",
       "23  [\\n          Automate your code review with st...   \n",
       "24  [\\n          Ensure your code meets quality st...   \n",
       "25  [\\n          Compilers are software that trans...   \n",
       "26  [\\n          Automatically build and test your...   \n",
       "27  [\\n          C++ is a general purpose and obje...   \n",
       "28  [\\n          A cryptocurrency is a digital cur...   \n",
       "29  [\\n          Crystal is a self-hosted, general...   \n",
       "\n",
       "                                                  url  \n",
       "0                       https://github.com//topics/3d  \n",
       "1                     https://github.com//topics/ajax  \n",
       "2                https://github.com//topics/algorithm  \n",
       "3                    https://github.com//topics/amphp  \n",
       "4                  https://github.com//topics/android  \n",
       "5                  https://github.com//topics/angular  \n",
       "6                  https://github.com//topics/ansible  \n",
       "7                      https://github.com//topics/api  \n",
       "8                  https://github.com//topics/arduino  \n",
       "9                   https://github.com//topics/aspnet  \n",
       "10                 https://github.com//topics/awesome  \n",
       "11                     https://github.com//topics/aws  \n",
       "12                   https://github.com//topics/azure  \n",
       "13                   https://github.com//topics/babel  \n",
       "14                    https://github.com//topics/bash  \n",
       "15                 https://github.com//topics/bitcoin  \n",
       "16               https://github.com//topics/bootstrap  \n",
       "17                     https://github.com//topics/bot  \n",
       "18                       https://github.com//topics/c  \n",
       "19                  https://github.com//topics/chrome  \n",
       "20        https://github.com//topics/chrome-extension  \n",
       "21                     https://github.com//topics/cli  \n",
       "22                 https://github.com//topics/clojure  \n",
       "23            https://github.com//topics/code-quality  \n",
       "24             https://github.com//topics/code-review  \n",
       "25                https://github.com//topics/compiler  \n",
       "26  https://github.com//topics/continuous-integration  \n",
       "27                     https://github.com//topics/cpp  \n",
       "28          https://github.com//topics/cryptocurrency  \n",
       "29                 https://github.com//topics/crystal  "
      ]
     },
     "execution_count": 28,
     "metadata": {},
     "output_type": "execute_result"
    }
   ],
   "source": [
    "topics_df"
   ]
  },
  {
   "cell_type": "code",
   "execution_count": 29,
   "metadata": {},
   "outputs": [],
   "source": [
    "topics_df.to_csv('topics.csv' , index=False)"
   ]
  },
  {
   "cell_type": "markdown",
   "metadata": {},
   "source": [
    "Getting info out of a topic page\n"
   ]
  },
  {
   "cell_type": "code",
   "execution_count": 30,
   "metadata": {},
   "outputs": [],
   "source": [
    "topic_pg_Url = topics_url[0]"
   ]
  },
  {
   "cell_type": "code",
   "execution_count": 31,
   "metadata": {},
   "outputs": [
    {
     "data": {
      "text/plain": [
       "'https://github.com//topics/3d'"
      ]
     },
     "execution_count": 31,
     "metadata": {},
     "output_type": "execute_result"
    }
   ],
   "source": [
    "topic_pg_Url"
   ]
  },
  {
   "cell_type": "code",
   "execution_count": 32,
   "metadata": {},
   "outputs": [],
   "source": [
    "response = requests.get(topic_pg_Url)"
   ]
  },
  {
   "cell_type": "code",
   "execution_count": 33,
   "metadata": {},
   "outputs": [],
   "source": [
    "topic_doc =  BeautifulSoup(response.text, 'html.parser')"
   ]
  },
  {
   "cell_type": "code",
   "execution_count": 34,
   "metadata": {},
   "outputs": [],
   "source": [
    "h1_selection_class = 'f3 color-fg-muted text-normal lh-condensed'\n",
    "repo_tags = topic_doc.find_all('h3',{'class' : h1_selection_class})"
   ]
  },
  {
   "cell_type": "code",
   "execution_count": 35,
   "metadata": {},
   "outputs": [
    {
     "data": {
      "text/plain": [
       "[<h3 class=\"f3 color-fg-muted text-normal lh-condensed\">\n",
       " <a class=\"Link\" data-hydro-click='{\"event_type\":\"explore.click\",\"payload\":{\"click_context\":\"REPOSITORY_CARD\",\"click_target\":\"OWNER\",\"click_visual_representation\":\"REPOSITORY_OWNER_HEADING\",\"actor_id\":null,\"record_id\":97088,\"originating_url\":\"https://github.com/topics/3d\",\"user_id\":null}}' data-hydro-click-hmac=\"c72fbd5c69a8ee7c9c53a4e65de2b93c8fc7552dd793945819639bc165c0f0ba\" data-turbo=\"false\" data-view-component=\"true\" href=\"/mrdoob\">mrdoob</a>          /\n",
       "           <a class=\"Link text-bold wb-break-word\" data-hydro-click='{\"event_type\":\"explore.click\",\"payload\":{\"click_context\":\"REPOSITORY_CARD\",\"click_target\":\"REPOSITORY\",\"click_visual_representation\":\"REPOSITORY_NAME_HEADING\",\"actor_id\":null,\"record_id\":576201,\"originating_url\":\"https://github.com/topics/3d\",\"user_id\":null}}' data-hydro-click-hmac=\"4a2667db3d63a1739c412e059e5da95afe419df83f70949b5d59dc3478f5c79a\" data-turbo=\"false\" data-view-component=\"true\" href=\"/mrdoob/three.js\">three.js</a> </h3>,\n",
       " <h3 class=\"f3 color-fg-muted text-normal lh-condensed\">\n",
       " <a class=\"Link\" data-hydro-click='{\"event_type\":\"explore.click\",\"payload\":{\"click_context\":\"REPOSITORY_CARD\",\"click_target\":\"OWNER\",\"click_visual_representation\":\"REPOSITORY_OWNER_HEADING\",\"actor_id\":null,\"record_id\":45790596,\"originating_url\":\"https://github.com/topics/3d\",\"user_id\":null}}' data-hydro-click-hmac=\"3631fd8d52f4cabfc79d79ff64c69f4b01193561c15fdbebe2e938fb5c659ca6\" data-turbo=\"false\" data-view-component=\"true\" href=\"/pmndrs\">pmndrs</a>          /\n",
       "           <a class=\"Link text-bold wb-break-word\" data-hydro-click='{\"event_type\":\"explore.click\",\"payload\":{\"click_context\":\"REPOSITORY_CARD\",\"click_target\":\"REPOSITORY\",\"click_visual_representation\":\"REPOSITORY_NAME_HEADING\",\"actor_id\":null,\"record_id\":172521926,\"originating_url\":\"https://github.com/topics/3d\",\"user_id\":null}}' data-hydro-click-hmac=\"642553dc7d4ffd4a71455d086a76b927fd338477f8a4affe2a70abc205373db7\" data-turbo=\"false\" data-view-component=\"true\" href=\"/pmndrs/react-three-fiber\">react-three-fiber</a> </h3>,\n",
       " <h3 class=\"f3 color-fg-muted text-normal lh-condensed\">\n",
       " <a class=\"Link\" data-hydro-click='{\"event_type\":\"explore.click\",\"payload\":{\"click_context\":\"REPOSITORY_CARD\",\"click_target\":\"OWNER\",\"click_visual_representation\":\"REPOSITORY_OWNER_HEADING\",\"actor_id\":null,\"record_id\":509841,\"originating_url\":\"https://github.com/topics/3d\",\"user_id\":null}}' data-hydro-click-hmac=\"f5fbcbcae567cb54999ca77df523ec3e63bf16aaf66cfe150df67964bd49444d\" data-turbo=\"false\" data-view-component=\"true\" href=\"/libgdx\">libgdx</a>          /\n",
       "           <a class=\"Link text-bold wb-break-word\" data-hydro-click='{\"event_type\":\"explore.click\",\"payload\":{\"click_context\":\"REPOSITORY_CARD\",\"click_target\":\"REPOSITORY\",\"click_visual_representation\":\"REPOSITORY_NAME_HEADING\",\"actor_id\":null,\"record_id\":5373551,\"originating_url\":\"https://github.com/topics/3d\",\"user_id\":null}}' data-hydro-click-hmac=\"93e1fbfd676bec2f3c89b7de544fddc92181afdf52544c2bedf8c11ec0d75a2c\" data-turbo=\"false\" data-view-component=\"true\" href=\"/libgdx/libgdx\">libgdx</a> </h3>,\n",
       " <h3 class=\"f3 color-fg-muted text-normal lh-condensed\">\n",
       " <a class=\"Link\" data-hydro-click='{\"event_type\":\"explore.click\",\"payload\":{\"click_context\":\"REPOSITORY_CARD\",\"click_target\":\"OWNER\",\"click_visual_representation\":\"REPOSITORY_OWNER_HEADING\",\"actor_id\":null,\"record_id\":4855800,\"originating_url\":\"https://github.com/topics/3d\",\"user_id\":null}}' data-hydro-click-hmac=\"a1d0cdc67cb2b8c6bde702eaaf3e49c102d6c79761dd9388495e03cb75473502\" data-turbo=\"false\" data-view-component=\"true\" href=\"/BabylonJS\">BabylonJS</a>          /\n",
       "           <a class=\"Link text-bold wb-break-word\" data-hydro-click='{\"event_type\":\"explore.click\",\"payload\":{\"click_context\":\"REPOSITORY_CARD\",\"click_target\":\"REPOSITORY\",\"click_visual_representation\":\"REPOSITORY_NAME_HEADING\",\"actor_id\":null,\"record_id\":11007313,\"originating_url\":\"https://github.com/topics/3d\",\"user_id\":null}}' data-hydro-click-hmac=\"4543a4bac703ddf1e723be30e195f4ee9093c06ebc961fff86939beb0bf98e33\" data-turbo=\"false\" data-view-component=\"true\" href=\"/BabylonJS/Babylon.js\">Babylon.js</a> </h3>,\n",
       " <h3 class=\"f3 color-fg-muted text-normal lh-condensed\">\n",
       " <a class=\"Link\" data-hydro-click='{\"event_type\":\"explore.click\",\"payload\":{\"click_context\":\"REPOSITORY_CARD\",\"click_target\":\"OWNER\",\"click_visual_representation\":\"REPOSITORY_OWNER_HEADING\",\"actor_id\":null,\"record_id\":2306237,\"originating_url\":\"https://github.com/topics/3d\",\"user_id\":null}}' data-hydro-click-hmac=\"7a7b36f5724d013a0286371472e4e3d68c50e8fa3c26d065843baa8542fc202b\" data-turbo=\"false\" data-view-component=\"true\" href=\"/FreeCAD\">FreeCAD</a>          /\n",
       "           <a class=\"Link text-bold wb-break-word\" data-hydro-click='{\"event_type\":\"explore.click\",\"payload\":{\"click_context\":\"REPOSITORY_CARD\",\"click_target\":\"REPOSITORY\",\"click_visual_representation\":\"REPOSITORY_NAME_HEADING\",\"actor_id\":null,\"record_id\":5736080,\"originating_url\":\"https://github.com/topics/3d\",\"user_id\":null}}' data-hydro-click-hmac=\"4dd7decd3a6df1295ac657dfaa6061a37f49e87224a240f13e848793fceaf92f\" data-turbo=\"false\" data-view-component=\"true\" href=\"/FreeCAD/FreeCAD\">FreeCAD</a> </h3>,\n",
       " <h3 class=\"f3 color-fg-muted text-normal lh-condensed\">\n",
       " <a class=\"Link\" data-hydro-click='{\"event_type\":\"explore.click\",\"payload\":{\"click_context\":\"REPOSITORY_CARD\",\"click_target\":\"OWNER\",\"click_visual_representation\":\"REPOSITORY_OWNER_HEADING\",\"actor_id\":null,\"record_id\":1029298,\"originating_url\":\"https://github.com/topics/3d\",\"user_id\":null}}' data-hydro-click-hmac=\"72cab1d85a871dc19468acc3d9c4778e100acbea03d49accfa78f7c92042609b\" data-turbo=\"false\" data-view-component=\"true\" href=\"/ssloy\">ssloy</a>          /\n",
       "           <a class=\"Link text-bold wb-break-word\" data-hydro-click='{\"event_type\":\"explore.click\",\"payload\":{\"click_context\":\"REPOSITORY_CARD\",\"click_target\":\"REPOSITORY\",\"click_visual_representation\":\"REPOSITORY_NAME_HEADING\",\"actor_id\":null,\"record_id\":29397594,\"originating_url\":\"https://github.com/topics/3d\",\"user_id\":null}}' data-hydro-click-hmac=\"53d48dcce88c7bf8263707b062ba365c4bfc1b4dc8c257009a1f2517731c25f9\" data-turbo=\"false\" data-view-component=\"true\" href=\"/ssloy/tinyrenderer\">tinyrenderer</a> </h3>,\n",
       " <h3 class=\"f3 color-fg-muted text-normal lh-condensed\">\n",
       " <a class=\"Link\" data-hydro-click='{\"event_type\":\"explore.click\",\"payload\":{\"click_context\":\"REPOSITORY_CARD\",\"click_target\":\"OWNER\",\"click_visual_representation\":\"REPOSITORY_OWNER_HEADING\",\"actor_id\":null,\"record_id\":1661343,\"originating_url\":\"https://github.com/topics/3d\",\"user_id\":null}}' data-hydro-click-hmac=\"bc2848886fc92527623051680d76178173cc38fd4b5a64ba8e0da37cbf73d243\" data-turbo=\"false\" data-view-component=\"true\" href=\"/lettier\">lettier</a>          /\n",
       "           <a class=\"Link text-bold wb-break-word\" data-hydro-click='{\"event_type\":\"explore.click\",\"payload\":{\"click_context\":\"REPOSITORY_CARD\",\"click_target\":\"REPOSITORY\",\"click_visual_representation\":\"REPOSITORY_NAME_HEADING\",\"actor_id\":null,\"record_id\":186309296,\"originating_url\":\"https://github.com/topics/3d\",\"user_id\":null}}' data-hydro-click-hmac=\"bca9f8a5c565ae6f1fbba1832ccebf18d51fe998975ae5cb55251f655b8b9cd5\" data-turbo=\"false\" data-view-component=\"true\" href=\"/lettier/3d-game-shaders-for-beginners\">3d-game-shaders-for-beginners</a> </h3>,\n",
       " <h3 class=\"f3 color-fg-muted text-normal lh-condensed\">\n",
       " <a class=\"Link\" data-hydro-click='{\"event_type\":\"explore.click\",\"payload\":{\"click_context\":\"REPOSITORY_CARD\",\"click_target\":\"OWNER\",\"click_visual_representation\":\"REPOSITORY_OWNER_HEADING\",\"actor_id\":null,\"record_id\":16024092,\"originating_url\":\"https://github.com/topics/3d\",\"user_id\":null}}' data-hydro-click-hmac=\"3f5fe74b0179d71ddc0b548f01d4723c23e1dd08b5397840b2427db1fd064a5b\" data-turbo=\"false\" data-view-component=\"true\" href=\"/aframevr\">aframevr</a>          /\n",
       "           <a class=\"Link text-bold wb-break-word\" data-hydro-click='{\"event_type\":\"explore.click\",\"payload\":{\"click_context\":\"REPOSITORY_CARD\",\"click_target\":\"REPOSITORY\",\"click_visual_representation\":\"REPOSITORY_NAME_HEADING\",\"actor_id\":null,\"record_id\":42488903,\"originating_url\":\"https://github.com/topics/3d\",\"user_id\":null}}' data-hydro-click-hmac=\"2e04f568e88deddd90b028a35a3de9f18f43bc1af3ae7b41641bfca3ddadd1fd\" data-turbo=\"false\" data-view-component=\"true\" href=\"/aframevr/aframe\">aframe</a> </h3>,\n",
       " <h3 class=\"f3 color-fg-muted text-normal lh-condensed\">\n",
       " <a class=\"Link\" data-hydro-click='{\"event_type\":\"explore.click\",\"payload\":{\"click_context\":\"REPOSITORY_CARD\",\"click_target\":\"OWNER\",\"click_visual_representation\":\"REPOSITORY_OWNER_HEADING\",\"actor_id\":null,\"record_id\":52924476,\"originating_url\":\"https://github.com/topics/3d\",\"user_id\":null}}' data-hydro-click-hmac=\"f7abd38a6e5fdfcda241dd548b1aee405d2d37941bc45bac414badafd5bdf221\" data-turbo=\"false\" data-view-component=\"true\" href=\"/blender\">blender</a>          /\n",
       "           <a class=\"Link text-bold wb-break-word\" data-hydro-click='{\"event_type\":\"explore.click\",\"payload\":{\"click_context\":\"REPOSITORY_CARD\",\"click_target\":\"REPOSITORY\",\"click_visual_representation\":\"REPOSITORY_NAME_HEADING\",\"actor_id\":null,\"record_id\":213916896,\"originating_url\":\"https://github.com/topics/3d\",\"user_id\":null}}' data-hydro-click-hmac=\"d153eaddc10bbb1fcfe8530b05aa7584e86a76129fe06af21fc8faa74a81cc5f\" data-turbo=\"false\" data-view-component=\"true\" href=\"/blender/blender\">blender</a> </h3>,\n",
       " <h3 class=\"f3 color-fg-muted text-normal lh-condensed\">\n",
       " <a class=\"Link\" data-hydro-click='{\"event_type\":\"explore.click\",\"payload\":{\"click_context\":\"REPOSITORY_CARD\",\"click_target\":\"OWNER\",\"click_visual_representation\":\"REPOSITORY_OWNER_HEADING\",\"actor_id\":null,\"record_id\":54716382,\"originating_url\":\"https://github.com/topics/3d\",\"user_id\":null}}' data-hydro-click-hmac=\"5f36cea1e023375dab3e603179e74e61c57f2d2f9aa7597c494c8b2983152ed3\" data-turbo=\"false\" data-view-component=\"true\" href=\"/CesiumGS\">CesiumGS</a>          /\n",
       "           <a class=\"Link text-bold wb-break-word\" data-hydro-click='{\"event_type\":\"explore.click\",\"payload\":{\"click_context\":\"REPOSITORY_CARD\",\"click_target\":\"REPOSITORY\",\"click_visual_representation\":\"REPOSITORY_NAME_HEADING\",\"actor_id\":null,\"record_id\":3606738,\"originating_url\":\"https://github.com/topics/3d\",\"user_id\":null}}' data-hydro-click-hmac=\"fd32d7f4708e0174472636c37def63ec56e1a9bbe0842a507797edb03a0934cd\" data-turbo=\"false\" data-view-component=\"true\" href=\"/CesiumGS/cesium\">cesium</a> </h3>,\n",
       " <h3 class=\"f3 color-fg-muted text-normal lh-condensed\">\n",
       " <a class=\"Link\" data-hydro-click='{\"event_type\":\"explore.click\",\"payload\":{\"click_context\":\"REPOSITORY_CARD\",\"click_target\":\"OWNER\",\"click_visual_representation\":\"REPOSITORY_OWNER_HEADING\",\"actor_id\":null,\"record_id\":1280130,\"originating_url\":\"https://github.com/topics/3d\",\"user_id\":null}}' data-hydro-click-hmac=\"28c208a08afd38f7d9962084dc74d523c93a3f61d93ef40f0bb0c18c4467f77f\" data-turbo=\"false\" data-view-component=\"true\" href=\"/4ian\">4ian</a>          /\n",
       "           <a class=\"Link text-bold wb-break-word\" data-hydro-click='{\"event_type\":\"explore.click\",\"payload\":{\"click_context\":\"REPOSITORY_CARD\",\"click_target\":\"REPOSITORY\",\"click_visual_representation\":\"REPOSITORY_NAME_HEADING\",\"actor_id\":null,\"record_id\":21331090,\"originating_url\":\"https://github.com/topics/3d\",\"user_id\":null}}' data-hydro-click-hmac=\"84fd0e201399cf50e1b50954d6cfa6cc504c20243e9dea3066bac6d337f56dff\" data-turbo=\"false\" data-view-component=\"true\" href=\"/4ian/GDevelop\">GDevelop</a> </h3>,\n",
       " <h3 class=\"f3 color-fg-muted text-normal lh-condensed\">\n",
       " <a class=\"Link\" data-hydro-click='{\"event_type\":\"explore.click\",\"payload\":{\"click_context\":\"REPOSITORY_CARD\",\"click_target\":\"OWNER\",\"click_visual_representation\":\"REPOSITORY_OWNER_HEADING\",\"actor_id\":null,\"record_id\":23507030,\"originating_url\":\"https://github.com/topics/3d\",\"user_id\":null}}' data-hydro-click-hmac=\"ab13c1ae4c8573c529241a1e71101548a03d08680ea3cec8d9a6b9917c6d1404\" data-turbo=\"false\" data-view-component=\"true\" href=\"/isl-org\">isl-org</a>          /\n",
       "           <a class=\"Link text-bold wb-break-word\" data-hydro-click='{\"event_type\":\"explore.click\",\"payload\":{\"click_context\":\"REPOSITORY_CARD\",\"click_target\":\"REPOSITORY\",\"click_visual_representation\":\"REPOSITORY_NAME_HEADING\",\"actor_id\":null,\"record_id\":75413130,\"originating_url\":\"https://github.com/topics/3d\",\"user_id\":null}}' data-hydro-click-hmac=\"869962979c5e689586dda7a0806a1593693995526d5363f18aced7340315d4b6\" data-turbo=\"false\" data-view-component=\"true\" href=\"/isl-org/Open3D\">Open3D</a> </h3>,\n",
       " <h3 class=\"f3 color-fg-muted text-normal lh-condensed\">\n",
       " <a class=\"Link\" data-hydro-click='{\"event_type\":\"explore.click\",\"payload\":{\"click_context\":\"REPOSITORY_CARD\",\"click_target\":\"OWNER\",\"click_visual_representation\":\"REPOSITORY_OWNER_HEADING\",\"actor_id\":null,\"record_id\":4772066,\"originating_url\":\"https://github.com/topics/3d\",\"user_id\":null}}' data-hydro-click-hmac=\"043f9b13b3cf093673da140a9fc3c23e7fda2f83fbb943fbb9b4e435843aefb5\" data-turbo=\"false\" data-view-component=\"true\" href=\"/MonoGame\">MonoGame</a>          /\n",
       "           <a class=\"Link text-bold wb-break-word\" data-hydro-click='{\"event_type\":\"explore.click\",\"payload\":{\"click_context\":\"REPOSITORY_CARD\",\"click_target\":\"REPOSITORY\",\"click_visual_representation\":\"REPOSITORY_NAME_HEADING\",\"actor_id\":null,\"record_id\":1579990,\"originating_url\":\"https://github.com/topics/3d\",\"user_id\":null}}' data-hydro-click-hmac=\"9c0d3935765856d2dbd1457130702b19557da40f63966925a69beae585642f92\" data-turbo=\"false\" data-view-component=\"true\" href=\"/MonoGame/MonoGame\">MonoGame</a> </h3>,\n",
       " <h3 class=\"f3 color-fg-muted text-normal lh-condensed\">\n",
       " <a class=\"Link\" data-hydro-click='{\"event_type\":\"explore.click\",\"payload\":{\"click_context\":\"REPOSITORY_CARD\",\"click_target\":\"OWNER\",\"click_visual_representation\":\"REPOSITORY_OWNER_HEADING\",\"actor_id\":null,\"record_id\":600935,\"originating_url\":\"https://github.com/topics/3d\",\"user_id\":null}}' data-hydro-click-hmac=\"ce2a4bc115ff9c30a8444fcabfbcd261ca8cdb41d99ad3041260f14ad9e0cae0\" data-turbo=\"false\" data-view-component=\"true\" href=\"/mapbox\">mapbox</a>          /\n",
       "           <a class=\"Link text-bold wb-break-word\" data-hydro-click='{\"event_type\":\"explore.click\",\"payload\":{\"click_context\":\"REPOSITORY_CARD\",\"click_target\":\"REPOSITORY\",\"click_visual_representation\":\"REPOSITORY_NAME_HEADING\",\"actor_id\":null,\"record_id\":8629417,\"originating_url\":\"https://github.com/topics/3d\",\"user_id\":null}}' data-hydro-click-hmac=\"341fe82bb70dfeb84f465e76b8d5668ab4b39ad9654310553ed61ce538a2672f\" data-turbo=\"false\" data-view-component=\"true\" href=\"/mapbox/mapbox-gl-js\">mapbox-gl-js</a> </h3>,\n",
       " <h3 class=\"f3 color-fg-muted text-normal lh-condensed\">\n",
       " <a class=\"Link\" data-hydro-click='{\"event_type\":\"explore.click\",\"payload\":{\"click_context\":\"REPOSITORY_CARD\",\"click_target\":\"OWNER\",\"click_visual_representation\":\"REPOSITORY_OWNER_HEADING\",\"actor_id\":null,\"record_id\":573910,\"originating_url\":\"https://github.com/topics/3d\",\"user_id\":null}}' data-hydro-click-hmac=\"2475f866571e8bd178375300685d85cf3c27a8ea6724d129ccecbe209a9f67d9\" data-turbo=\"false\" data-view-component=\"true\" href=\"/metafizzy\">metafizzy</a>          /\n",
       "           <a class=\"Link text-bold wb-break-word\" data-hydro-click='{\"event_type\":\"explore.click\",\"payload\":{\"click_context\":\"REPOSITORY_CARD\",\"click_target\":\"REPOSITORY\",\"click_visual_representation\":\"REPOSITORY_NAME_HEADING\",\"actor_id\":null,\"record_id\":174164624,\"originating_url\":\"https://github.com/topics/3d\",\"user_id\":null}}' data-hydro-click-hmac=\"2d034d00e2dd43d427d347a28a28848919641085f0f0640422b0d045d6be60a7\" data-turbo=\"false\" data-view-component=\"true\" href=\"/metafizzy/zdog\">zdog</a> </h3>,\n",
       " <h3 class=\"f3 color-fg-muted text-normal lh-condensed\">\n",
       " <a class=\"Link\" data-hydro-click='{\"event_type\":\"explore.click\",\"payload\":{\"click_context\":\"REPOSITORY_CARD\",\"click_target\":\"OWNER\",\"click_visual_representation\":\"REPOSITORY_OWNER_HEADING\",\"actor_id\":null,\"record_id\":106621677,\"originating_url\":\"https://github.com/topics/3d\",\"user_id\":null}}' data-hydro-click-hmac=\"70d640c7ed3589913f92e0a864dff091edd0a7724d2ce3a627710ec582edf663\" data-turbo=\"false\" data-view-component=\"true\" href=\"/nerfstudio-project\">nerfstudio-project</a>          /\n",
       "           <a class=\"Link text-bold wb-break-word\" data-hydro-click='{\"event_type\":\"explore.click\",\"payload\":{\"click_context\":\"REPOSITORY_CARD\",\"click_target\":\"REPOSITORY\",\"click_visual_representation\":\"REPOSITORY_NAME_HEADING\",\"actor_id\":null,\"record_id\":498449014,\"originating_url\":\"https://github.com/topics/3d\",\"user_id\":null}}' data-hydro-click-hmac=\"9111508a625c34effb89a73132658f3fd4804221d0d89efc82e467081099278b\" data-turbo=\"false\" data-view-component=\"true\" href=\"/nerfstudio-project/nerfstudio\">nerfstudio</a> </h3>,\n",
       " <h3 class=\"f3 color-fg-muted text-normal lh-condensed\">\n",
       " <a class=\"Link\" data-hydro-click='{\"event_type\":\"explore.click\",\"payload\":{\"click_context\":\"REPOSITORY_CARD\",\"click_target\":\"OWNER\",\"click_visual_representation\":\"REPOSITORY_OWNER_HEADING\",\"actor_id\":null,\"record_id\":16217333,\"originating_url\":\"https://github.com/topics/3d\",\"user_id\":null}}' data-hydro-click-hmac=\"2e5adca28b20f67de2c3817307944835dbdd6e5b4c82003a26b647685a290cdd\" data-turbo=\"false\" data-view-component=\"true\" href=\"/timzhang642\">timzhang642</a>          /\n",
       "           <a class=\"Link text-bold wb-break-word\" data-hydro-click='{\"event_type\":\"explore.click\",\"payload\":{\"click_context\":\"REPOSITORY_CARD\",\"click_target\":\"REPOSITORY\",\"click_visual_representation\":\"REPOSITORY_NAME_HEADING\",\"actor_id\":null,\"record_id\":100120455,\"originating_url\":\"https://github.com/topics/3d\",\"user_id\":null}}' data-hydro-click-hmac=\"ead47df2876d7e14a4450598c983a4c8b9cadfabf26a54c3dcd472e4d47e57f9\" data-turbo=\"false\" data-view-component=\"true\" href=\"/timzhang642/3D-Machine-Learning\">3D-Machine-Learning</a> </h3>,\n",
       " <h3 class=\"f3 color-fg-muted text-normal lh-condensed\">\n",
       " <a class=\"Link\" data-hydro-click='{\"event_type\":\"explore.click\",\"payload\":{\"click_context\":\"REPOSITORY_CARD\",\"click_target\":\"OWNER\",\"click_visual_representation\":\"REPOSITORY_OWNER_HEADING\",\"actor_id\":null,\"record_id\":6937061,\"originating_url\":\"https://github.com/topics/3d\",\"user_id\":null}}' data-hydro-click-hmac=\"d0ed42e7175a431409d021ccfd96e39424b07d1e67acea09e6a624d3a09f885b\" data-turbo=\"false\" data-view-component=\"true\" href=\"/cocos\">cocos</a>          /\n",
       "           <a class=\"Link text-bold wb-break-word\" data-hydro-click='{\"event_type\":\"explore.click\",\"payload\":{\"click_context\":\"REPOSITORY_CARD\",\"click_target\":\"REPOSITORY\",\"click_visual_representation\":\"REPOSITORY_NAME_HEADING\",\"actor_id\":null,\"record_id\":47440536,\"originating_url\":\"https://github.com/topics/3d\",\"user_id\":null}}' data-hydro-click-hmac=\"f6c7f40153463d8e2d2109a37b572d16e88a79f3f1303898db14e2a81467b18b\" data-turbo=\"false\" data-view-component=\"true\" href=\"/cocos/cocos-engine\">cocos-engine</a> </h3>,\n",
       " <h3 class=\"f3 color-fg-muted text-normal lh-condensed\">\n",
       " <a class=\"Link\" data-hydro-click='{\"event_type\":\"explore.click\",\"payload\":{\"click_context\":\"REPOSITORY_CARD\",\"click_target\":\"OWNER\",\"click_visual_representation\":\"REPOSITORY_OWNER_HEADING\",\"actor_id\":null,\"record_id\":83981865,\"originating_url\":\"https://github.com/topics/3d\",\"user_id\":null}}' data-hydro-click-hmac=\"256ebe9e59dd043f6ef2aba9e06019dbee0c7cf36c8db177c5bcb4f44c6099be\" data-turbo=\"false\" data-view-component=\"true\" href=\"/FyroxEngine\">FyroxEngine</a>          /\n",
       "           <a class=\"Link text-bold wb-break-word\" data-hydro-click='{\"event_type\":\"explore.click\",\"payload\":{\"click_context\":\"REPOSITORY_CARD\",\"click_target\":\"REPOSITORY\",\"click_visual_representation\":\"REPOSITORY_NAME_HEADING\",\"actor_id\":null,\"record_id\":178597005,\"originating_url\":\"https://github.com/topics/3d\",\"user_id\":null}}' data-hydro-click-hmac=\"82d32b017eff488a891ece89faf194e70807430a29391c08a7c425977eb76300\" data-turbo=\"false\" data-view-component=\"true\" href=\"/FyroxEngine/Fyrox\">Fyrox</a> </h3>,\n",
       " <h3 class=\"f3 color-fg-muted text-normal lh-condensed\">\n",
       " <a class=\"Link\" data-hydro-click='{\"event_type\":\"explore.click\",\"payload\":{\"click_context\":\"REPOSITORY_CARD\",\"click_target\":\"OWNER\",\"click_visual_representation\":\"REPOSITORY_OWNER_HEADING\",\"actor_id\":null,\"record_id\":5639024,\"originating_url\":\"https://github.com/topics/3d\",\"user_id\":null}}' data-hydro-click-hmac=\"c4bd43ca998833f4e79bc1825f1edab46bba9c459adaa89d6ea8e90b9b863030\" data-turbo=\"false\" data-view-component=\"true\" href=\"/domlysz\">domlysz</a>          /\n",
       "           <a class=\"Link text-bold wb-break-word\" data-hydro-click='{\"event_type\":\"explore.click\",\"payload\":{\"click_context\":\"REPOSITORY_CARD\",\"click_target\":\"REPOSITORY\",\"click_visual_representation\":\"REPOSITORY_NAME_HEADING\",\"actor_id\":null,\"record_id\":19577136,\"originating_url\":\"https://github.com/topics/3d\",\"user_id\":null}}' data-hydro-click-hmac=\"eedffc7c9a3f608ddfe6390f4a31c3ad533fb1ecff23689cf0d6950373aa7fec\" data-turbo=\"false\" data-view-component=\"true\" href=\"/domlysz/BlenderGIS\">BlenderGIS</a> </h3>]"
      ]
     },
     "execution_count": 35,
     "metadata": {},
     "output_type": "execute_result"
    }
   ],
   "source": [
    "repo_tags\n"
   ]
  },
  {
   "cell_type": "code",
   "execution_count": 36,
   "metadata": {},
   "outputs": [],
   "source": [
    "a_tags = repo_tags[0].find_all('a')\n"
   ]
  },
  {
   "cell_type": "code",
   "execution_count": 37,
   "metadata": {},
   "outputs": [
    {
     "data": {
      "text/plain": [
       "[<a class=\"Link\" data-hydro-click='{\"event_type\":\"explore.click\",\"payload\":{\"click_context\":\"REPOSITORY_CARD\",\"click_target\":\"OWNER\",\"click_visual_representation\":\"REPOSITORY_OWNER_HEADING\",\"actor_id\":null,\"record_id\":97088,\"originating_url\":\"https://github.com/topics/3d\",\"user_id\":null}}' data-hydro-click-hmac=\"c72fbd5c69a8ee7c9c53a4e65de2b93c8fc7552dd793945819639bc165c0f0ba\" data-turbo=\"false\" data-view-component=\"true\" href=\"/mrdoob\">mrdoob</a>,\n",
       " <a class=\"Link text-bold wb-break-word\" data-hydro-click='{\"event_type\":\"explore.click\",\"payload\":{\"click_context\":\"REPOSITORY_CARD\",\"click_target\":\"REPOSITORY\",\"click_visual_representation\":\"REPOSITORY_NAME_HEADING\",\"actor_id\":null,\"record_id\":576201,\"originating_url\":\"https://github.com/topics/3d\",\"user_id\":null}}' data-hydro-click-hmac=\"4a2667db3d63a1739c412e059e5da95afe419df83f70949b5d59dc3478f5c79a\" data-turbo=\"false\" data-view-component=\"true\" href=\"/mrdoob/three.js\">three.js</a>]"
      ]
     },
     "execution_count": 37,
     "metadata": {},
     "output_type": "execute_result"
    }
   ],
   "source": [
    "a_tags"
   ]
  },
  {
   "cell_type": "code",
   "execution_count": 38,
   "metadata": {},
   "outputs": [
    {
     "data": {
      "text/plain": [
       "'mrdoob'"
      ]
     },
     "execution_count": 38,
     "metadata": {},
     "output_type": "execute_result"
    }
   ],
   "source": [
    "a_tags[0].text.strip()"
   ]
  },
  {
   "cell_type": "code",
   "execution_count": 39,
   "metadata": {},
   "outputs": [
    {
     "data": {
      "text/plain": [
       "'three.js'"
      ]
     },
     "execution_count": 39,
     "metadata": {},
     "output_type": "execute_result"
    }
   ],
   "source": [
    "a_tags[1].text.strip()"
   ]
  },
  {
   "cell_type": "code",
   "execution_count": 40,
   "metadata": {},
   "outputs": [
    {
     "name": "stdout",
     "output_type": "stream",
     "text": [
      "https://github.com//mrdoob/three.js\n"
     ]
    }
   ],
   "source": [
    "repo_url = base_url + a_tags[1]['href']\n",
    "print(repo_url)"
   ]
  },
  {
   "cell_type": "code",
   "execution_count": 41,
   "metadata": {},
   "outputs": [],
   "source": [
    "star_selection_class = 'Counter js-social-count'\n",
    "star_tag = topic_doc.find_all('span',{'class' : star_selection_class})\n"
   ]
  },
  {
   "cell_type": "code",
   "execution_count": 42,
   "metadata": {},
   "outputs": [
    {
     "data": {
      "text/plain": [
       "'104k'"
      ]
     },
     "execution_count": 42,
     "metadata": {},
     "output_type": "execute_result"
    }
   ],
   "source": [
    "star_tag[0].text.strip()"
   ]
  },
  {
   "cell_type": "code",
   "execution_count": 49,
   "metadata": {},
   "outputs": [],
   "source": [
    "def parse_star_count(stars_str):\n",
    "    if not stars_str:  # Handle empty or None values\n",
    "        return 0\n",
    "    stars_str = stars_str.strip().lower()  # Normalize case\n",
    "    try:\n",
    "        if stars_str[-1] == 'k':  # Convert 'k' notation\n",
    "            return int(float(stars_str[:-1]) * 1000)\n",
    "        return int(stars_str)  # Convert to integer\n",
    "    except ValueError:\n",
    "        return 0  # Return 0 if conversion fails\n"
   ]
  },
  {
   "cell_type": "code",
   "execution_count": 79,
   "metadata": {},
   "outputs": [
    {
     "data": {
      "text/plain": [
       "8000"
      ]
     },
     "execution_count": 79,
     "metadata": {},
     "output_type": "execute_result"
    }
   ],
   "source": [
    "parse_star_count(star_tag[i].text.strip())"
   ]
  },
  {
   "cell_type": "code",
   "execution_count": 51,
   "metadata": {},
   "outputs": [
    {
     "data": {
      "text/plain": [
       "bs4.element.ResultSet"
      ]
     },
     "execution_count": 51,
     "metadata": {},
     "output_type": "execute_result"
    }
   ],
   "source": [
    "type(star_tag)"
   ]
  },
  {
   "cell_type": "code",
   "execution_count": 77,
   "metadata": {},
   "outputs": [],
   "source": [
    "def get_repo_info(h3_tag, star_tag):\n",
    "    a_tags = h3_tag.find_all('a')\n",
    "    \n",
    "    # Debugging a_tags\n",
    "    print(f\"a_tags: {a_tags}\")\n",
    "    if len(a_tags) < 2:\n",
    "        print(\"Error: Expected at least 2 <a> tags, found\", len(a_tags))\n",
    "        return None\n",
    "\n",
    "    username = a_tags[0].text.strip()\n",
    "    repo_name = a_tags[1].text.strip()\n",
    "    repo_url = a_tags[1].get('href', 'No URL Found')  # Avoid KeyError\n",
    "\n",
    "    # Debugging star_tag\n",
    "    print(f\"star_tag: {star_tag}\")\n",
    "    \n",
    "    if isinstance(star_tag, list) and len(star_tag) > 0:\n",
    "        star_text = star_tag[i].text.strip()\n",
    "        print(f\"Extracted star count: {star_text}\")\n",
    "        star = parse_star_count(star_text)\n",
    "    else:\n",
    "        print(\"Error: star_tag is empty or invalid!\")\n",
    "        star = 0  # Default value if no stars are found\n",
    "    \n",
    "    return username, repo_name, repo_url, star\n"
   ]
  },
  {
   "cell_type": "code",
   "execution_count": 78,
   "metadata": {},
   "outputs": [
    {
     "name": "stdout",
     "output_type": "stream",
     "text": [
      "a_tags: [<a class=\"Link\" data-hydro-click='{\"event_type\":\"explore.click\",\"payload\":{\"click_context\":\"REPOSITORY_CARD\",\"click_target\":\"OWNER\",\"click_visual_representation\":\"REPOSITORY_OWNER_HEADING\",\"actor_id\":null,\"record_id\":5639024,\"originating_url\":\"https://github.com/topics/3d\",\"user_id\":null}}' data-hydro-click-hmac=\"c4bd43ca998833f4e79bc1825f1edab46bba9c459adaa89d6ea8e90b9b863030\" data-turbo=\"false\" data-view-component=\"true\" href=\"/domlysz\">domlysz</a>, <a class=\"Link text-bold wb-break-word\" data-hydro-click='{\"event_type\":\"explore.click\",\"payload\":{\"click_context\":\"REPOSITORY_CARD\",\"click_target\":\"REPOSITORY\",\"click_visual_representation\":\"REPOSITORY_NAME_HEADING\",\"actor_id\":null,\"record_id\":19577136,\"originating_url\":\"https://github.com/topics/3d\",\"user_id\":null}}' data-hydro-click-hmac=\"eedffc7c9a3f608ddfe6390f4a31c3ad533fb1ecff23689cf0d6950373aa7fec\" data-turbo=\"false\" data-view-component=\"true\" href=\"/domlysz/BlenderGIS\">BlenderGIS</a>]\n",
      "star_tag: <span aria-label=\"8029 users starred this repository\" class=\"Counter js-social-count\" data-plural-suffix=\"users starred this repository\" data-singular-suffix=\"user starred this repository\" data-turbo-replace=\"true\" data-view-component=\"true\" id=\"repo-stars-counter-star\" title=\"8,029\">8k</span>\n",
      "Error: star_tag is empty or invalid!\n"
     ]
    },
    {
     "data": {
      "text/plain": [
       "('domlysz', 'BlenderGIS', '/domlysz/BlenderGIS', 0)"
      ]
     },
     "execution_count": 78,
     "metadata": {},
     "output_type": "execute_result"
    }
   ],
   "source": [
    "get_repo_info(repo_tags[i],star_tag[i])"
   ]
  },
  {
   "cell_type": "code",
   "execution_count": 74,
   "metadata": {},
   "outputs": [
    {
     "name": "stdout",
     "output_type": "stream",
     "text": [
      "a_tags: [<a class=\"Link\" data-hydro-click='{\"event_type\":\"explore.click\",\"payload\":{\"click_context\":\"REPOSITORY_CARD\",\"click_target\":\"OWNER\",\"click_visual_representation\":\"REPOSITORY_OWNER_HEADING\",\"actor_id\":null,\"record_id\":97088,\"originating_url\":\"https://github.com/topics/3d\",\"user_id\":null}}' data-hydro-click-hmac=\"c72fbd5c69a8ee7c9c53a4e65de2b93c8fc7552dd793945819639bc165c0f0ba\" data-turbo=\"false\" data-view-component=\"true\" href=\"/mrdoob\">mrdoob</a>, <a class=\"Link text-bold wb-break-word\" data-hydro-click='{\"event_type\":\"explore.click\",\"payload\":{\"click_context\":\"REPOSITORY_CARD\",\"click_target\":\"REPOSITORY\",\"click_visual_representation\":\"REPOSITORY_NAME_HEADING\",\"actor_id\":null,\"record_id\":576201,\"originating_url\":\"https://github.com/topics/3d\",\"user_id\":null}}' data-hydro-click-hmac=\"4a2667db3d63a1739c412e059e5da95afe419df83f70949b5d59dc3478f5c79a\" data-turbo=\"false\" data-view-component=\"true\" href=\"/mrdoob/three.js\">three.js</a>]\n",
      "star_tag: <span aria-label=\"104453 users starred this repository\" class=\"Counter js-social-count\" data-plural-suffix=\"users starred this repository\" data-singular-suffix=\"user starred this repository\" data-turbo-replace=\"true\" data-view-component=\"true\" id=\"repo-stars-counter-star\" title=\"104,453\">104k</span>\n",
      "Error: star_tag is empty or invalid!\n",
      "a_tags: [<a class=\"Link\" data-hydro-click='{\"event_type\":\"explore.click\",\"payload\":{\"click_context\":\"REPOSITORY_CARD\",\"click_target\":\"OWNER\",\"click_visual_representation\":\"REPOSITORY_OWNER_HEADING\",\"actor_id\":null,\"record_id\":45790596,\"originating_url\":\"https://github.com/topics/3d\",\"user_id\":null}}' data-hydro-click-hmac=\"3631fd8d52f4cabfc79d79ff64c69f4b01193561c15fdbebe2e938fb5c659ca6\" data-turbo=\"false\" data-view-component=\"true\" href=\"/pmndrs\">pmndrs</a>, <a class=\"Link text-bold wb-break-word\" data-hydro-click='{\"event_type\":\"explore.click\",\"payload\":{\"click_context\":\"REPOSITORY_CARD\",\"click_target\":\"REPOSITORY\",\"click_visual_representation\":\"REPOSITORY_NAME_HEADING\",\"actor_id\":null,\"record_id\":172521926,\"originating_url\":\"https://github.com/topics/3d\",\"user_id\":null}}' data-hydro-click-hmac=\"642553dc7d4ffd4a71455d086a76b927fd338477f8a4affe2a70abc205373db7\" data-turbo=\"false\" data-view-component=\"true\" href=\"/pmndrs/react-three-fiber\">react-three-fiber</a>]\n",
      "star_tag: <span aria-label=\"28226 users starred this repository\" class=\"Counter js-social-count\" data-plural-suffix=\"users starred this repository\" data-singular-suffix=\"user starred this repository\" data-turbo-replace=\"true\" data-view-component=\"true\" id=\"repo-stars-counter-star\" title=\"28,226\">28.2k</span>\n",
      "Error: star_tag is empty or invalid!\n",
      "a_tags: [<a class=\"Link\" data-hydro-click='{\"event_type\":\"explore.click\",\"payload\":{\"click_context\":\"REPOSITORY_CARD\",\"click_target\":\"OWNER\",\"click_visual_representation\":\"REPOSITORY_OWNER_HEADING\",\"actor_id\":null,\"record_id\":509841,\"originating_url\":\"https://github.com/topics/3d\",\"user_id\":null}}' data-hydro-click-hmac=\"f5fbcbcae567cb54999ca77df523ec3e63bf16aaf66cfe150df67964bd49444d\" data-turbo=\"false\" data-view-component=\"true\" href=\"/libgdx\">libgdx</a>, <a class=\"Link text-bold wb-break-word\" data-hydro-click='{\"event_type\":\"explore.click\",\"payload\":{\"click_context\":\"REPOSITORY_CARD\",\"click_target\":\"REPOSITORY\",\"click_visual_representation\":\"REPOSITORY_NAME_HEADING\",\"actor_id\":null,\"record_id\":5373551,\"originating_url\":\"https://github.com/topics/3d\",\"user_id\":null}}' data-hydro-click-hmac=\"93e1fbfd676bec2f3c89b7de544fddc92181afdf52544c2bedf8c11ec0d75a2c\" data-turbo=\"false\" data-view-component=\"true\" href=\"/libgdx/libgdx\">libgdx</a>]\n",
      "star_tag: <span aria-label=\"23758 users starred this repository\" class=\"Counter js-social-count\" data-plural-suffix=\"users starred this repository\" data-singular-suffix=\"user starred this repository\" data-turbo-replace=\"true\" data-view-component=\"true\" id=\"repo-stars-counter-star\" title=\"23,758\">23.8k</span>\n",
      "Error: star_tag is empty or invalid!\n",
      "a_tags: [<a class=\"Link\" data-hydro-click='{\"event_type\":\"explore.click\",\"payload\":{\"click_context\":\"REPOSITORY_CARD\",\"click_target\":\"OWNER\",\"click_visual_representation\":\"REPOSITORY_OWNER_HEADING\",\"actor_id\":null,\"record_id\":4855800,\"originating_url\":\"https://github.com/topics/3d\",\"user_id\":null}}' data-hydro-click-hmac=\"a1d0cdc67cb2b8c6bde702eaaf3e49c102d6c79761dd9388495e03cb75473502\" data-turbo=\"false\" data-view-component=\"true\" href=\"/BabylonJS\">BabylonJS</a>, <a class=\"Link text-bold wb-break-word\" data-hydro-click='{\"event_type\":\"explore.click\",\"payload\":{\"click_context\":\"REPOSITORY_CARD\",\"click_target\":\"REPOSITORY\",\"click_visual_representation\":\"REPOSITORY_NAME_HEADING\",\"actor_id\":null,\"record_id\":11007313,\"originating_url\":\"https://github.com/topics/3d\",\"user_id\":null}}' data-hydro-click-hmac=\"4543a4bac703ddf1e723be30e195f4ee9093c06ebc961fff86939beb0bf98e33\" data-turbo=\"false\" data-view-component=\"true\" href=\"/BabylonJS/Babylon.js\">Babylon.js</a>]\n",
      "star_tag: <span aria-label=\"23626 users starred this repository\" class=\"Counter js-social-count\" data-plural-suffix=\"users starred this repository\" data-singular-suffix=\"user starred this repository\" data-turbo-replace=\"true\" data-view-component=\"true\" id=\"repo-stars-counter-star\" title=\"23,626\">23.6k</span>\n",
      "Error: star_tag is empty or invalid!\n",
      "a_tags: [<a class=\"Link\" data-hydro-click='{\"event_type\":\"explore.click\",\"payload\":{\"click_context\":\"REPOSITORY_CARD\",\"click_target\":\"OWNER\",\"click_visual_representation\":\"REPOSITORY_OWNER_HEADING\",\"actor_id\":null,\"record_id\":2306237,\"originating_url\":\"https://github.com/topics/3d\",\"user_id\":null}}' data-hydro-click-hmac=\"7a7b36f5724d013a0286371472e4e3d68c50e8fa3c26d065843baa8542fc202b\" data-turbo=\"false\" data-view-component=\"true\" href=\"/FreeCAD\">FreeCAD</a>, <a class=\"Link text-bold wb-break-word\" data-hydro-click='{\"event_type\":\"explore.click\",\"payload\":{\"click_context\":\"REPOSITORY_CARD\",\"click_target\":\"REPOSITORY\",\"click_visual_representation\":\"REPOSITORY_NAME_HEADING\",\"actor_id\":null,\"record_id\":5736080,\"originating_url\":\"https://github.com/topics/3d\",\"user_id\":null}}' data-hydro-click-hmac=\"4dd7decd3a6df1295ac657dfaa6061a37f49e87224a240f13e848793fceaf92f\" data-turbo=\"false\" data-view-component=\"true\" href=\"/FreeCAD/FreeCAD\">FreeCAD</a>]\n",
      "star_tag: <span aria-label=\"23171 users starred this repository\" class=\"Counter js-social-count\" data-plural-suffix=\"users starred this repository\" data-singular-suffix=\"user starred this repository\" data-turbo-replace=\"true\" data-view-component=\"true\" id=\"repo-stars-counter-star\" title=\"23,171\">23.2k</span>\n",
      "Error: star_tag is empty or invalid!\n",
      "a_tags: [<a class=\"Link\" data-hydro-click='{\"event_type\":\"explore.click\",\"payload\":{\"click_context\":\"REPOSITORY_CARD\",\"click_target\":\"OWNER\",\"click_visual_representation\":\"REPOSITORY_OWNER_HEADING\",\"actor_id\":null,\"record_id\":1029298,\"originating_url\":\"https://github.com/topics/3d\",\"user_id\":null}}' data-hydro-click-hmac=\"72cab1d85a871dc19468acc3d9c4778e100acbea03d49accfa78f7c92042609b\" data-turbo=\"false\" data-view-component=\"true\" href=\"/ssloy\">ssloy</a>, <a class=\"Link text-bold wb-break-word\" data-hydro-click='{\"event_type\":\"explore.click\",\"payload\":{\"click_context\":\"REPOSITORY_CARD\",\"click_target\":\"REPOSITORY\",\"click_visual_representation\":\"REPOSITORY_NAME_HEADING\",\"actor_id\":null,\"record_id\":29397594,\"originating_url\":\"https://github.com/topics/3d\",\"user_id\":null}}' data-hydro-click-hmac=\"53d48dcce88c7bf8263707b062ba365c4bfc1b4dc8c257009a1f2517731c25f9\" data-turbo=\"false\" data-view-component=\"true\" href=\"/ssloy/tinyrenderer\">tinyrenderer</a>]\n",
      "star_tag: <span aria-label=\"21282 users starred this repository\" class=\"Counter js-social-count\" data-plural-suffix=\"users starred this repository\" data-singular-suffix=\"user starred this repository\" data-turbo-replace=\"true\" data-view-component=\"true\" id=\"repo-stars-counter-star\" title=\"21,282\">21.3k</span>\n",
      "Error: star_tag is empty or invalid!\n",
      "a_tags: [<a class=\"Link\" data-hydro-click='{\"event_type\":\"explore.click\",\"payload\":{\"click_context\":\"REPOSITORY_CARD\",\"click_target\":\"OWNER\",\"click_visual_representation\":\"REPOSITORY_OWNER_HEADING\",\"actor_id\":null,\"record_id\":1661343,\"originating_url\":\"https://github.com/topics/3d\",\"user_id\":null}}' data-hydro-click-hmac=\"bc2848886fc92527623051680d76178173cc38fd4b5a64ba8e0da37cbf73d243\" data-turbo=\"false\" data-view-component=\"true\" href=\"/lettier\">lettier</a>, <a class=\"Link text-bold wb-break-word\" data-hydro-click='{\"event_type\":\"explore.click\",\"payload\":{\"click_context\":\"REPOSITORY_CARD\",\"click_target\":\"REPOSITORY\",\"click_visual_representation\":\"REPOSITORY_NAME_HEADING\",\"actor_id\":null,\"record_id\":186309296,\"originating_url\":\"https://github.com/topics/3d\",\"user_id\":null}}' data-hydro-click-hmac=\"bca9f8a5c565ae6f1fbba1832ccebf18d51fe998975ae5cb55251f655b8b9cd5\" data-turbo=\"false\" data-view-component=\"true\" href=\"/lettier/3d-game-shaders-for-beginners\">3d-game-shaders-for-beginners</a>]\n",
      "star_tag: <span aria-label=\"18370 users starred this repository\" class=\"Counter js-social-count\" data-plural-suffix=\"users starred this repository\" data-singular-suffix=\"user starred this repository\" data-turbo-replace=\"true\" data-view-component=\"true\" id=\"repo-stars-counter-star\" title=\"18,370\">18.4k</span>\n",
      "Error: star_tag is empty or invalid!\n",
      "a_tags: [<a class=\"Link\" data-hydro-click='{\"event_type\":\"explore.click\",\"payload\":{\"click_context\":\"REPOSITORY_CARD\",\"click_target\":\"OWNER\",\"click_visual_representation\":\"REPOSITORY_OWNER_HEADING\",\"actor_id\":null,\"record_id\":16024092,\"originating_url\":\"https://github.com/topics/3d\",\"user_id\":null}}' data-hydro-click-hmac=\"3f5fe74b0179d71ddc0b548f01d4723c23e1dd08b5397840b2427db1fd064a5b\" data-turbo=\"false\" data-view-component=\"true\" href=\"/aframevr\">aframevr</a>, <a class=\"Link text-bold wb-break-word\" data-hydro-click='{\"event_type\":\"explore.click\",\"payload\":{\"click_context\":\"REPOSITORY_CARD\",\"click_target\":\"REPOSITORY\",\"click_visual_representation\":\"REPOSITORY_NAME_HEADING\",\"actor_id\":null,\"record_id\":42488903,\"originating_url\":\"https://github.com/topics/3d\",\"user_id\":null}}' data-hydro-click-hmac=\"2e04f568e88deddd90b028a35a3de9f18f43bc1af3ae7b41641bfca3ddadd1fd\" data-turbo=\"false\" data-view-component=\"true\" href=\"/aframevr/aframe\">aframe</a>]\n",
      "star_tag: <span aria-label=\"16866 users starred this repository\" class=\"Counter js-social-count\" data-plural-suffix=\"users starred this repository\" data-singular-suffix=\"user starred this repository\" data-turbo-replace=\"true\" data-view-component=\"true\" id=\"repo-stars-counter-star\" title=\"16,866\">16.9k</span>\n",
      "Error: star_tag is empty or invalid!\n",
      "a_tags: [<a class=\"Link\" data-hydro-click='{\"event_type\":\"explore.click\",\"payload\":{\"click_context\":\"REPOSITORY_CARD\",\"click_target\":\"OWNER\",\"click_visual_representation\":\"REPOSITORY_OWNER_HEADING\",\"actor_id\":null,\"record_id\":52924476,\"originating_url\":\"https://github.com/topics/3d\",\"user_id\":null}}' data-hydro-click-hmac=\"f7abd38a6e5fdfcda241dd548b1aee405d2d37941bc45bac414badafd5bdf221\" data-turbo=\"false\" data-view-component=\"true\" href=\"/blender\">blender</a>, <a class=\"Link text-bold wb-break-word\" data-hydro-click='{\"event_type\":\"explore.click\",\"payload\":{\"click_context\":\"REPOSITORY_CARD\",\"click_target\":\"REPOSITORY\",\"click_visual_representation\":\"REPOSITORY_NAME_HEADING\",\"actor_id\":null,\"record_id\":213916896,\"originating_url\":\"https://github.com/topics/3d\",\"user_id\":null}}' data-hydro-click-hmac=\"d153eaddc10bbb1fcfe8530b05aa7584e86a76129fe06af21fc8faa74a81cc5f\" data-turbo=\"false\" data-view-component=\"true\" href=\"/blender/blender\">blender</a>]\n",
      "star_tag: <span aria-label=\"14210 users starred this repository\" class=\"Counter js-social-count\" data-plural-suffix=\"users starred this repository\" data-singular-suffix=\"user starred this repository\" data-turbo-replace=\"true\" data-view-component=\"true\" id=\"repo-stars-counter-star\" title=\"14,210\">14.2k</span>\n",
      "Error: star_tag is empty or invalid!\n",
      "a_tags: [<a class=\"Link\" data-hydro-click='{\"event_type\":\"explore.click\",\"payload\":{\"click_context\":\"REPOSITORY_CARD\",\"click_target\":\"OWNER\",\"click_visual_representation\":\"REPOSITORY_OWNER_HEADING\",\"actor_id\":null,\"record_id\":54716382,\"originating_url\":\"https://github.com/topics/3d\",\"user_id\":null}}' data-hydro-click-hmac=\"5f36cea1e023375dab3e603179e74e61c57f2d2f9aa7597c494c8b2983152ed3\" data-turbo=\"false\" data-view-component=\"true\" href=\"/CesiumGS\">CesiumGS</a>, <a class=\"Link text-bold wb-break-word\" data-hydro-click='{\"event_type\":\"explore.click\",\"payload\":{\"click_context\":\"REPOSITORY_CARD\",\"click_target\":\"REPOSITORY\",\"click_visual_representation\":\"REPOSITORY_NAME_HEADING\",\"actor_id\":null,\"record_id\":3606738,\"originating_url\":\"https://github.com/topics/3d\",\"user_id\":null}}' data-hydro-click-hmac=\"fd32d7f4708e0174472636c37def63ec56e1a9bbe0842a507797edb03a0934cd\" data-turbo=\"false\" data-view-component=\"true\" href=\"/CesiumGS/cesium\">cesium</a>]\n",
      "star_tag: <span aria-label=\"13315 users starred this repository\" class=\"Counter js-social-count\" data-plural-suffix=\"users starred this repository\" data-singular-suffix=\"user starred this repository\" data-turbo-replace=\"true\" data-view-component=\"true\" id=\"repo-stars-counter-star\" title=\"13,315\">13.3k</span>\n",
      "Error: star_tag is empty or invalid!\n",
      "a_tags: [<a class=\"Link\" data-hydro-click='{\"event_type\":\"explore.click\",\"payload\":{\"click_context\":\"REPOSITORY_CARD\",\"click_target\":\"OWNER\",\"click_visual_representation\":\"REPOSITORY_OWNER_HEADING\",\"actor_id\":null,\"record_id\":1280130,\"originating_url\":\"https://github.com/topics/3d\",\"user_id\":null}}' data-hydro-click-hmac=\"28c208a08afd38f7d9962084dc74d523c93a3f61d93ef40f0bb0c18c4467f77f\" data-turbo=\"false\" data-view-component=\"true\" href=\"/4ian\">4ian</a>, <a class=\"Link text-bold wb-break-word\" data-hydro-click='{\"event_type\":\"explore.click\",\"payload\":{\"click_context\":\"REPOSITORY_CARD\",\"click_target\":\"REPOSITORY\",\"click_visual_representation\":\"REPOSITORY_NAME_HEADING\",\"actor_id\":null,\"record_id\":21331090,\"originating_url\":\"https://github.com/topics/3d\",\"user_id\":null}}' data-hydro-click-hmac=\"84fd0e201399cf50e1b50954d6cfa6cc504c20243e9dea3066bac6d337f56dff\" data-turbo=\"false\" data-view-component=\"true\" href=\"/4ian/GDevelop\">GDevelop</a>]\n",
      "star_tag: <span aria-label=\"12958 users starred this repository\" class=\"Counter js-social-count\" data-plural-suffix=\"users starred this repository\" data-singular-suffix=\"user starred this repository\" data-turbo-replace=\"true\" data-view-component=\"true\" id=\"repo-stars-counter-star\" title=\"12,958\">13k</span>\n",
      "Error: star_tag is empty or invalid!\n",
      "a_tags: [<a class=\"Link\" data-hydro-click='{\"event_type\":\"explore.click\",\"payload\":{\"click_context\":\"REPOSITORY_CARD\",\"click_target\":\"OWNER\",\"click_visual_representation\":\"REPOSITORY_OWNER_HEADING\",\"actor_id\":null,\"record_id\":23507030,\"originating_url\":\"https://github.com/topics/3d\",\"user_id\":null}}' data-hydro-click-hmac=\"ab13c1ae4c8573c529241a1e71101548a03d08680ea3cec8d9a6b9917c6d1404\" data-turbo=\"false\" data-view-component=\"true\" href=\"/isl-org\">isl-org</a>, <a class=\"Link text-bold wb-break-word\" data-hydro-click='{\"event_type\":\"explore.click\",\"payload\":{\"click_context\":\"REPOSITORY_CARD\",\"click_target\":\"REPOSITORY\",\"click_visual_representation\":\"REPOSITORY_NAME_HEADING\",\"actor_id\":null,\"record_id\":75413130,\"originating_url\":\"https://github.com/topics/3d\",\"user_id\":null}}' data-hydro-click-hmac=\"869962979c5e689586dda7a0806a1593693995526d5363f18aced7340315d4b6\" data-turbo=\"false\" data-view-component=\"true\" href=\"/isl-org/Open3D\">Open3D</a>]\n",
      "star_tag: <span aria-label=\"11951 users starred this repository\" class=\"Counter js-social-count\" data-plural-suffix=\"users starred this repository\" data-singular-suffix=\"user starred this repository\" data-turbo-replace=\"true\" data-view-component=\"true\" id=\"repo-stars-counter-star\" title=\"11,951\">12k</span>\n",
      "Error: star_tag is empty or invalid!\n",
      "a_tags: [<a class=\"Link\" data-hydro-click='{\"event_type\":\"explore.click\",\"payload\":{\"click_context\":\"REPOSITORY_CARD\",\"click_target\":\"OWNER\",\"click_visual_representation\":\"REPOSITORY_OWNER_HEADING\",\"actor_id\":null,\"record_id\":4772066,\"originating_url\":\"https://github.com/topics/3d\",\"user_id\":null}}' data-hydro-click-hmac=\"043f9b13b3cf093673da140a9fc3c23e7fda2f83fbb943fbb9b4e435843aefb5\" data-turbo=\"false\" data-view-component=\"true\" href=\"/MonoGame\">MonoGame</a>, <a class=\"Link text-bold wb-break-word\" data-hydro-click='{\"event_type\":\"explore.click\",\"payload\":{\"click_context\":\"REPOSITORY_CARD\",\"click_target\":\"REPOSITORY\",\"click_visual_representation\":\"REPOSITORY_NAME_HEADING\",\"actor_id\":null,\"record_id\":1579990,\"originating_url\":\"https://github.com/topics/3d\",\"user_id\":null}}' data-hydro-click-hmac=\"9c0d3935765856d2dbd1457130702b19557da40f63966925a69beae585642f92\" data-turbo=\"false\" data-view-component=\"true\" href=\"/MonoGame/MonoGame\">MonoGame</a>]\n",
      "star_tag: <span aria-label=\"11829 users starred this repository\" class=\"Counter js-social-count\" data-plural-suffix=\"users starred this repository\" data-singular-suffix=\"user starred this repository\" data-turbo-replace=\"true\" data-view-component=\"true\" id=\"repo-stars-counter-star\" title=\"11,829\">11.8k</span>\n",
      "Error: star_tag is empty or invalid!\n",
      "a_tags: [<a class=\"Link\" data-hydro-click='{\"event_type\":\"explore.click\",\"payload\":{\"click_context\":\"REPOSITORY_CARD\",\"click_target\":\"OWNER\",\"click_visual_representation\":\"REPOSITORY_OWNER_HEADING\",\"actor_id\":null,\"record_id\":600935,\"originating_url\":\"https://github.com/topics/3d\",\"user_id\":null}}' data-hydro-click-hmac=\"ce2a4bc115ff9c30a8444fcabfbcd261ca8cdb41d99ad3041260f14ad9e0cae0\" data-turbo=\"false\" data-view-component=\"true\" href=\"/mapbox\">mapbox</a>, <a class=\"Link text-bold wb-break-word\" data-hydro-click='{\"event_type\":\"explore.click\",\"payload\":{\"click_context\":\"REPOSITORY_CARD\",\"click_target\":\"REPOSITORY\",\"click_visual_representation\":\"REPOSITORY_NAME_HEADING\",\"actor_id\":null,\"record_id\":8629417,\"originating_url\":\"https://github.com/topics/3d\",\"user_id\":null}}' data-hydro-click-hmac=\"341fe82bb70dfeb84f465e76b8d5668ab4b39ad9654310553ed61ce538a2672f\" data-turbo=\"false\" data-view-component=\"true\" href=\"/mapbox/mapbox-gl-js\">mapbox-gl-js</a>]\n",
      "star_tag: <span aria-label=\"11424 users starred this repository\" class=\"Counter js-social-count\" data-plural-suffix=\"users starred this repository\" data-singular-suffix=\"user starred this repository\" data-turbo-replace=\"true\" data-view-component=\"true\" id=\"repo-stars-counter-star\" title=\"11,424\">11.4k</span>\n",
      "Error: star_tag is empty or invalid!\n",
      "a_tags: [<a class=\"Link\" data-hydro-click='{\"event_type\":\"explore.click\",\"payload\":{\"click_context\":\"REPOSITORY_CARD\",\"click_target\":\"OWNER\",\"click_visual_representation\":\"REPOSITORY_OWNER_HEADING\",\"actor_id\":null,\"record_id\":573910,\"originating_url\":\"https://github.com/topics/3d\",\"user_id\":null}}' data-hydro-click-hmac=\"2475f866571e8bd178375300685d85cf3c27a8ea6724d129ccecbe209a9f67d9\" data-turbo=\"false\" data-view-component=\"true\" href=\"/metafizzy\">metafizzy</a>, <a class=\"Link text-bold wb-break-word\" data-hydro-click='{\"event_type\":\"explore.click\",\"payload\":{\"click_context\":\"REPOSITORY_CARD\",\"click_target\":\"REPOSITORY\",\"click_visual_representation\":\"REPOSITORY_NAME_HEADING\",\"actor_id\":null,\"record_id\":174164624,\"originating_url\":\"https://github.com/topics/3d\",\"user_id\":null}}' data-hydro-click-hmac=\"2d034d00e2dd43d427d347a28a28848919641085f0f0640422b0d045d6be60a7\" data-turbo=\"false\" data-view-component=\"true\" href=\"/metafizzy/zdog\">zdog</a>]\n",
      "star_tag: <span aria-label=\"10440 users starred this repository\" class=\"Counter js-social-count\" data-plural-suffix=\"users starred this repository\" data-singular-suffix=\"user starred this repository\" data-turbo-replace=\"true\" data-view-component=\"true\" id=\"repo-stars-counter-star\" title=\"10,440\">10.4k</span>\n",
      "Error: star_tag is empty or invalid!\n",
      "a_tags: [<a class=\"Link\" data-hydro-click='{\"event_type\":\"explore.click\",\"payload\":{\"click_context\":\"REPOSITORY_CARD\",\"click_target\":\"OWNER\",\"click_visual_representation\":\"REPOSITORY_OWNER_HEADING\",\"actor_id\":null,\"record_id\":106621677,\"originating_url\":\"https://github.com/topics/3d\",\"user_id\":null}}' data-hydro-click-hmac=\"70d640c7ed3589913f92e0a864dff091edd0a7724d2ce3a627710ec582edf663\" data-turbo=\"false\" data-view-component=\"true\" href=\"/nerfstudio-project\">nerfstudio-project</a>, <a class=\"Link text-bold wb-break-word\" data-hydro-click='{\"event_type\":\"explore.click\",\"payload\":{\"click_context\":\"REPOSITORY_CARD\",\"click_target\":\"REPOSITORY\",\"click_visual_representation\":\"REPOSITORY_NAME_HEADING\",\"actor_id\":null,\"record_id\":498449014,\"originating_url\":\"https://github.com/topics/3d\",\"user_id\":null}}' data-hydro-click-hmac=\"9111508a625c34effb89a73132658f3fd4804221d0d89efc82e467081099278b\" data-turbo=\"false\" data-view-component=\"true\" href=\"/nerfstudio-project/nerfstudio\">nerfstudio</a>]\n",
      "star_tag: <span aria-label=\"9886 users starred this repository\" class=\"Counter js-social-count\" data-plural-suffix=\"users starred this repository\" data-singular-suffix=\"user starred this repository\" data-turbo-replace=\"true\" data-view-component=\"true\" id=\"repo-stars-counter-star\" title=\"9,886\">9.9k</span>\n",
      "Error: star_tag is empty or invalid!\n",
      "a_tags: [<a class=\"Link\" data-hydro-click='{\"event_type\":\"explore.click\",\"payload\":{\"click_context\":\"REPOSITORY_CARD\",\"click_target\":\"OWNER\",\"click_visual_representation\":\"REPOSITORY_OWNER_HEADING\",\"actor_id\":null,\"record_id\":16217333,\"originating_url\":\"https://github.com/topics/3d\",\"user_id\":null}}' data-hydro-click-hmac=\"2e5adca28b20f67de2c3817307944835dbdd6e5b4c82003a26b647685a290cdd\" data-turbo=\"false\" data-view-component=\"true\" href=\"/timzhang642\">timzhang642</a>, <a class=\"Link text-bold wb-break-word\" data-hydro-click='{\"event_type\":\"explore.click\",\"payload\":{\"click_context\":\"REPOSITORY_CARD\",\"click_target\":\"REPOSITORY\",\"click_visual_representation\":\"REPOSITORY_NAME_HEADING\",\"actor_id\":null,\"record_id\":100120455,\"originating_url\":\"https://github.com/topics/3d\",\"user_id\":null}}' data-hydro-click-hmac=\"ead47df2876d7e14a4450598c983a4c8b9cadfabf26a54c3dcd472e4d47e57f9\" data-turbo=\"false\" data-view-component=\"true\" href=\"/timzhang642/3D-Machine-Learning\">3D-Machine-Learning</a>]\n",
      "star_tag: <span aria-label=\"9884 users starred this repository\" class=\"Counter js-social-count\" data-plural-suffix=\"users starred this repository\" data-singular-suffix=\"user starred this repository\" data-turbo-replace=\"true\" data-view-component=\"true\" id=\"repo-stars-counter-star\" title=\"9,884\">9.9k</span>\n",
      "Error: star_tag is empty or invalid!\n",
      "a_tags: [<a class=\"Link\" data-hydro-click='{\"event_type\":\"explore.click\",\"payload\":{\"click_context\":\"REPOSITORY_CARD\",\"click_target\":\"OWNER\",\"click_visual_representation\":\"REPOSITORY_OWNER_HEADING\",\"actor_id\":null,\"record_id\":6937061,\"originating_url\":\"https://github.com/topics/3d\",\"user_id\":null}}' data-hydro-click-hmac=\"d0ed42e7175a431409d021ccfd96e39424b07d1e67acea09e6a624d3a09f885b\" data-turbo=\"false\" data-view-component=\"true\" href=\"/cocos\">cocos</a>, <a class=\"Link text-bold wb-break-word\" data-hydro-click='{\"event_type\":\"explore.click\",\"payload\":{\"click_context\":\"REPOSITORY_CARD\",\"click_target\":\"REPOSITORY\",\"click_visual_representation\":\"REPOSITORY_NAME_HEADING\",\"actor_id\":null,\"record_id\":47440536,\"originating_url\":\"https://github.com/topics/3d\",\"user_id\":null}}' data-hydro-click-hmac=\"f6c7f40153463d8e2d2109a37b572d16e88a79f3f1303898db14e2a81467b18b\" data-turbo=\"false\" data-view-component=\"true\" href=\"/cocos/cocos-engine\">cocos-engine</a>]\n",
      "star_tag: <span aria-label=\"8413 users starred this repository\" class=\"Counter js-social-count\" data-plural-suffix=\"users starred this repository\" data-singular-suffix=\"user starred this repository\" data-turbo-replace=\"true\" data-view-component=\"true\" id=\"repo-stars-counter-star\" title=\"8,413\">8.4k</span>\n",
      "Error: star_tag is empty or invalid!\n",
      "a_tags: [<a class=\"Link\" data-hydro-click='{\"event_type\":\"explore.click\",\"payload\":{\"click_context\":\"REPOSITORY_CARD\",\"click_target\":\"OWNER\",\"click_visual_representation\":\"REPOSITORY_OWNER_HEADING\",\"actor_id\":null,\"record_id\":83981865,\"originating_url\":\"https://github.com/topics/3d\",\"user_id\":null}}' data-hydro-click-hmac=\"256ebe9e59dd043f6ef2aba9e06019dbee0c7cf36c8db177c5bcb4f44c6099be\" data-turbo=\"false\" data-view-component=\"true\" href=\"/FyroxEngine\">FyroxEngine</a>, <a class=\"Link text-bold wb-break-word\" data-hydro-click='{\"event_type\":\"explore.click\",\"payload\":{\"click_context\":\"REPOSITORY_CARD\",\"click_target\":\"REPOSITORY\",\"click_visual_representation\":\"REPOSITORY_NAME_HEADING\",\"actor_id\":null,\"record_id\":178597005,\"originating_url\":\"https://github.com/topics/3d\",\"user_id\":null}}' data-hydro-click-hmac=\"82d32b017eff488a891ece89faf194e70807430a29391c08a7c425977eb76300\" data-turbo=\"false\" data-view-component=\"true\" href=\"/FyroxEngine/Fyrox\">Fyrox</a>]\n",
      "star_tag: <span aria-label=\"8039 users starred this repository\" class=\"Counter js-social-count\" data-plural-suffix=\"users starred this repository\" data-singular-suffix=\"user starred this repository\" data-turbo-replace=\"true\" data-view-component=\"true\" id=\"repo-stars-counter-star\" title=\"8,039\">8k</span>\n",
      "Error: star_tag is empty or invalid!\n",
      "a_tags: [<a class=\"Link\" data-hydro-click='{\"event_type\":\"explore.click\",\"payload\":{\"click_context\":\"REPOSITORY_CARD\",\"click_target\":\"OWNER\",\"click_visual_representation\":\"REPOSITORY_OWNER_HEADING\",\"actor_id\":null,\"record_id\":5639024,\"originating_url\":\"https://github.com/topics/3d\",\"user_id\":null}}' data-hydro-click-hmac=\"c4bd43ca998833f4e79bc1825f1edab46bba9c459adaa89d6ea8e90b9b863030\" data-turbo=\"false\" data-view-component=\"true\" href=\"/domlysz\">domlysz</a>, <a class=\"Link text-bold wb-break-word\" data-hydro-click='{\"event_type\":\"explore.click\",\"payload\":{\"click_context\":\"REPOSITORY_CARD\",\"click_target\":\"REPOSITORY\",\"click_visual_representation\":\"REPOSITORY_NAME_HEADING\",\"actor_id\":null,\"record_id\":19577136,\"originating_url\":\"https://github.com/topics/3d\",\"user_id\":null}}' data-hydro-click-hmac=\"eedffc7c9a3f608ddfe6390f4a31c3ad533fb1ecff23689cf0d6950373aa7fec\" data-turbo=\"false\" data-view-component=\"true\" href=\"/domlysz/BlenderGIS\">BlenderGIS</a>]\n",
      "star_tag: <span aria-label=\"8029 users starred this repository\" class=\"Counter js-social-count\" data-plural-suffix=\"users starred this repository\" data-singular-suffix=\"user starred this repository\" data-turbo-replace=\"true\" data-view-component=\"true\" id=\"repo-stars-counter-star\" title=\"8,029\">8k</span>\n",
      "Error: star_tag is empty or invalid!\n"
     ]
    }
   ],
   "source": [
    "topic_repo_dict = {\n",
    "    'username' : [],\n",
    "    'repo_url' : [],\n",
    "    'repo_name' : [],\n",
    "    'star'     : [],\n",
    "}\n",
    "\n",
    "\n",
    "for i in range(len(repo_tags)):\n",
    "    repo_info = get_repo_info(repo_tags[i],star_tag[i])\n",
    "    topic_repo_dict['username'].append(repo_info[0])\n",
    "    topic_repo_dict['repo_url'].append(repo_info[1])\n",
    "    topic_repo_dict['repo_name'].append(repo_info[2])\n",
    "    topic_repo_dict['star'].append(repo_info[3])"
   ]
  },
  {
   "cell_type": "code",
   "execution_count": 72,
   "metadata": {},
   "outputs": [
    {
     "data": {
      "text/plain": [
       "{'username': ['mrdoob',\n",
       "  'pmndrs',\n",
       "  'libgdx',\n",
       "  'BabylonJS',\n",
       "  'FreeCAD',\n",
       "  'ssloy',\n",
       "  'lettier',\n",
       "  'aframevr',\n",
       "  'blender',\n",
       "  'CesiumGS',\n",
       "  '4ian',\n",
       "  'isl-org',\n",
       "  'MonoGame',\n",
       "  'mapbox',\n",
       "  'metafizzy',\n",
       "  'nerfstudio-project',\n",
       "  'timzhang642',\n",
       "  'cocos',\n",
       "  'FyroxEngine',\n",
       "  'domlysz'],\n",
       " 'repo_url': ['three.js',\n",
       "  'react-three-fiber',\n",
       "  'libgdx',\n",
       "  'Babylon.js',\n",
       "  'FreeCAD',\n",
       "  'tinyrenderer',\n",
       "  '3d-game-shaders-for-beginners',\n",
       "  'aframe',\n",
       "  'blender',\n",
       "  'cesium',\n",
       "  'GDevelop',\n",
       "  'Open3D',\n",
       "  'MonoGame',\n",
       "  'mapbox-gl-js',\n",
       "  'zdog',\n",
       "  'nerfstudio',\n",
       "  '3D-Machine-Learning',\n",
       "  'cocos-engine',\n",
       "  'Fyrox',\n",
       "  'BlenderGIS'],\n",
       " 'repo_name': ['/mrdoob/three.js',\n",
       "  '/pmndrs/react-three-fiber',\n",
       "  '/libgdx/libgdx',\n",
       "  '/BabylonJS/Babylon.js',\n",
       "  '/FreeCAD/FreeCAD',\n",
       "  '/ssloy/tinyrenderer',\n",
       "  '/lettier/3d-game-shaders-for-beginners',\n",
       "  '/aframevr/aframe',\n",
       "  '/blender/blender',\n",
       "  '/CesiumGS/cesium',\n",
       "  '/4ian/GDevelop',\n",
       "  '/isl-org/Open3D',\n",
       "  '/MonoGame/MonoGame',\n",
       "  '/mapbox/mapbox-gl-js',\n",
       "  '/metafizzy/zdog',\n",
       "  '/nerfstudio-project/nerfstudio',\n",
       "  '/timzhang642/3D-Machine-Learning',\n",
       "  '/cocos/cocos-engine',\n",
       "  '/FyroxEngine/Fyrox',\n",
       "  '/domlysz/BlenderGIS'],\n",
       " 'star': [0, 0, 0, 0, 0, 0, 0, 0, 0, 0, 0, 0, 0, 0, 0, 0, 0, 0, 0, 0]}"
      ]
     },
     "execution_count": 72,
     "metadata": {},
     "output_type": "execute_result"
    }
   ],
   "source": [
    "topic_repo_dict"
   ]
  },
  {
   "cell_type": "code",
   "execution_count": 94,
   "metadata": {},
   "outputs": [],
   "source": [
    "def get_topic_page(topics_url):\n",
    "    response = requests.get(topics_url)\n",
    "\n",
    "    if response.status_code != 200:\n",
    "        print(f\"Failed to retrieve topic page: {response.status_code}\")\n",
    "    topic_doc =  BeautifulSoup(response.text, 'html.parser')\n",
    "    return topic_doc\n",
    "\n",
    "\n",
    "\n",
    "\n",
    "def get_repo_info(h3_tag, star_tag):\n",
    "    a_tags = h3_tag.find_all('a')\n",
    "    \n",
    "    # Debugging a_tags\n",
    "    print(f\"a_tags: {a_tags}\")\n",
    "    if len(a_tags) < 2:\n",
    "        print(\"Error: Expected at least 2 <a> tags, found\", len(a_tags))\n",
    "        return None\n",
    "\n",
    "    username = a_tags[0].text.strip()\n",
    "    repo_name = a_tags[1].text.strip()\n",
    "    repo_url = a_tags[1].get('href', 'No URL Found')  # Avoid KeyError\n",
    "\n",
    "    # Debugging star_tag\n",
    "    print(f\"star_tag: {star_tag}\")\n",
    "    \n",
    "    if isinstance(star_tag, list) and len(star_tag) > 0:\n",
    "        star_text = star_tag[i].text.strip()\n",
    "        print(f\"Extracted star count: {star_text}\")\n",
    "        star = parse_star_count(star_text)\n",
    "    else:\n",
    "        print(\"Error: star_tag is empty or invalid!\")\n",
    "        star = 0  # Default value if no stars are found\n",
    "    \n",
    "    return username, repo_name, repo_url, star\n",
    "\n",
    "\n",
    "def get_topic_repo(topic_doc):\n",
    "    h1_selection_class = 'f3 color-fg-muted text-normal lh-condensed'\n",
    "    repo_tags = topic_doc.find_all('h3',{'class' : h1_selection_class})\n",
    "\n",
    "    star_selection_class = 'Counter js-social-count'\n",
    "    star_tag = topic_doc.find_all('span',{'class' : star_selection_class})\n",
    "\n",
    "    topic_repo_dict = {\n",
    "    'username' : [],\n",
    "    'repo_url' : [],\n",
    "    'repo_name' : [],\n",
    "    'star'     : [],\n",
    "      }\n",
    "\n",
    "\n",
    "    for i in range(len(repo_tags)):\n",
    "\n",
    "       repo_info = get_repo_info(repo_tags[i],star_tag[i])\n",
    "       topic_repo_dict['username'].append(repo_info[0])\n",
    "       topic_repo_dict['repo_url'].append(repo_info[1])\n",
    "       topic_repo_dict['repo_name'].append(repo_info[2])\n",
    "       topic_repo_dict['star'].append(repo_info[3])\n",
    "        \n",
    "    return topic_repo_dict"
   ]
  },
  {
   "cell_type": "code",
   "execution_count": 107,
   "metadata": {},
   "outputs": [
    {
     "name": "stdout",
     "output_type": "stream",
     "text": [
      "a_tags: [<a class=\"Link\" data-hydro-click='{\"event_type\":\"explore.click\",\"payload\":{\"click_context\":\"REPOSITORY_CARD\",\"click_target\":\"OWNER\",\"click_visual_representation\":\"REPOSITORY_OWNER_HEADING\",\"actor_id\":null,\"record_id\":14101776,\"originating_url\":\"https://github.com/topics/android\",\"user_id\":null}}' data-hydro-click-hmac=\"57b50c473d9a5d57c6672a2acd8bb64c660641c9b469b6b790d686e665d9c9a4\" data-turbo=\"false\" data-view-component=\"true\" href=\"/flutter\">flutter</a>, <a class=\"Link text-bold wb-break-word\" data-hydro-click='{\"event_type\":\"explore.click\",\"payload\":{\"click_context\":\"REPOSITORY_CARD\",\"click_target\":\"REPOSITORY\",\"click_visual_representation\":\"REPOSITORY_NAME_HEADING\",\"actor_id\":null,\"record_id\":31792824,\"originating_url\":\"https://github.com/topics/android\",\"user_id\":null}}' data-hydro-click-hmac=\"92b9db70c29beb44f8125354236ea64618a41baf47aa8749b61a63531608e541\" data-turbo=\"false\" data-view-component=\"true\" href=\"/flutter/flutter\">flutter</a>]\n",
      "star_tag: <span aria-label=\"168783 users starred this repository\" class=\"Counter js-social-count\" data-plural-suffix=\"users starred this repository\" data-singular-suffix=\"user starred this repository\" data-turbo-replace=\"true\" data-view-component=\"true\" id=\"repo-stars-counter-star\" title=\"168,783\">169k</span>\n",
      "Error: star_tag is empty or invalid!\n",
      "a_tags: [<a class=\"Link\" data-hydro-click='{\"event_type\":\"explore.click\",\"payload\":{\"click_context\":\"REPOSITORY_CARD\",\"click_target\":\"OWNER\",\"click_visual_representation\":\"REPOSITORY_OWNER_HEADING\",\"actor_id\":null,\"record_id\":69631,\"originating_url\":\"https://github.com/topics/android\",\"user_id\":null}}' data-hydro-click-hmac=\"babb1cb3fcf356bb2c5029d9e77c9fca824c7d4210e3735fb8f160ddb7256da9\" data-turbo=\"false\" data-view-component=\"true\" href=\"/facebook\">facebook</a>, <a class=\"Link text-bold wb-break-word\" data-hydro-click='{\"event_type\":\"explore.click\",\"payload\":{\"click_context\":\"REPOSITORY_CARD\",\"click_target\":\"REPOSITORY\",\"click_visual_representation\":\"REPOSITORY_NAME_HEADING\",\"actor_id\":null,\"record_id\":29028775,\"originating_url\":\"https://github.com/topics/android\",\"user_id\":null}}' data-hydro-click-hmac=\"6e6899c42a59a52b14cfa6cd9a007ba8dfaf075c9d0a8bad7734e89983a29e78\" data-turbo=\"false\" data-view-component=\"true\" href=\"/facebook/react-native\">react-native</a>]\n",
      "star_tag: <span aria-label=\"120681 users starred this repository\" class=\"Counter js-social-count\" data-plural-suffix=\"users starred this repository\" data-singular-suffix=\"user starred this repository\" data-turbo-replace=\"true\" data-view-component=\"true\" id=\"repo-stars-counter-star\" title=\"120,681\">121k</span>\n",
      "Error: star_tag is empty or invalid!\n",
      "a_tags: [<a class=\"Link\" data-hydro-click='{\"event_type\":\"explore.click\",\"payload\":{\"click_context\":\"REPOSITORY_CARD\",\"click_target\":\"OWNER\",\"click_visual_representation\":\"REPOSITORY_OWNER_HEADING\",\"actor_id\":null,\"record_id\":3427627,\"originating_url\":\"https://github.com/topics/android\",\"user_id\":null}}' data-hydro-click-hmac=\"be05e8f52568dbf549973a08498d947bb95bac597d8f990e1aa8a2e86eb608ca\" data-turbo=\"false\" data-view-component=\"true\" href=\"/Genymobile\">Genymobile</a>, <a class=\"Link text-bold wb-break-word\" data-hydro-click='{\"event_type\":\"explore.click\",\"payload\":{\"click_context\":\"REPOSITORY_CARD\",\"click_target\":\"REPOSITORY\",\"click_visual_representation\":\"REPOSITORY_NAME_HEADING\",\"actor_id\":null,\"record_id\":111583593,\"originating_url\":\"https://github.com/topics/android\",\"user_id\":null}}' data-hydro-click-hmac=\"8ac17771e7f32cec899c692d19e06757126c847e75089b3dbe4f93a58f150240\" data-turbo=\"false\" data-view-component=\"true\" href=\"/Genymobile/scrcpy\">scrcpy</a>]\n",
      "star_tag: <span aria-label=\"117935 users starred this repository\" class=\"Counter js-social-count\" data-plural-suffix=\"users starred this repository\" data-singular-suffix=\"user starred this repository\" data-turbo-replace=\"true\" data-view-component=\"true\" id=\"repo-stars-counter-star\" title=\"117,935\">118k</span>\n",
      "Error: star_tag is empty or invalid!\n",
      "a_tags: [<a class=\"Link\" data-hydro-click='{\"event_type\":\"explore.click\",\"payload\":{\"click_context\":\"REPOSITORY_CARD\",\"click_target\":\"OWNER\",\"click_visual_representation\":\"REPOSITORY_OWNER_HEADING\",\"actor_id\":null,\"record_id\":359395,\"originating_url\":\"https://github.com/topics/android\",\"user_id\":null}}' data-hydro-click-hmac=\"e9af007f99910e5552f359c985c1502e55c3e9f7d1e2f34e1dd4d73d317b7c2f\" data-turbo=\"false\" data-view-component=\"true\" href=\"/justjavac\">justjavac</a>, <a class=\"Link text-bold wb-break-word\" data-hydro-click='{\"event_type\":\"explore.click\",\"payload\":{\"click_context\":\"REPOSITORY_CARD\",\"click_target\":\"REPOSITORY\",\"click_visual_representation\":\"REPOSITORY_NAME_HEADING\",\"actor_id\":null,\"record_id\":14098069,\"originating_url\":\"https://github.com/topics/android\",\"user_id\":null}}' data-hydro-click-hmac=\"64b168b779c0b30d9c8456306e5118522acc89a71c95aa8afe3d59b2274ecc8a\" data-turbo=\"false\" data-view-component=\"true\" href=\"/justjavac/free-programming-books-zh_CN\">free-programming-books-zh_CN</a>]\n",
      "star_tag: <span aria-label=\"112690 users starred this repository\" class=\"Counter js-social-count\" data-plural-suffix=\"users starred this repository\" data-singular-suffix=\"user starred this repository\" data-turbo-replace=\"true\" data-view-component=\"true\" id=\"repo-stars-counter-star\" title=\"112,690\">113k</span>\n",
      "Error: star_tag is empty or invalid!\n",
      "a_tags: [<a class=\"Link\" data-hydro-click='{\"event_type\":\"explore.click\",\"payload\":{\"click_context\":\"REPOSITORY_CARD\",\"click_target\":\"OWNER\",\"click_visual_representation\":\"REPOSITORY_OWNER_HEADING\",\"actor_id\":null,\"record_id\":18143746,\"originating_url\":\"https://github.com/topics/android\",\"user_id\":null}}' data-hydro-click-hmac=\"27cddec3f6801803ac6a09fcb3579ffd7d82f4da7975f36f2e90b632759996ca\" data-turbo=\"false\" data-view-component=\"true\" href=\"/Hack-with-Github\">Hack-with-Github</a>, <a class=\"Link text-bold wb-break-word\" data-hydro-click='{\"event_type\":\"explore.click\",\"payload\":{\"click_context\":\"REPOSITORY_CARD\",\"click_target\":\"REPOSITORY\",\"click_visual_representation\":\"REPOSITORY_NAME_HEADING\",\"actor_id\":null,\"record_id\":55076063,\"originating_url\":\"https://github.com/topics/android\",\"user_id\":null}}' data-hydro-click-hmac=\"de631d5f4f80b71dc1941ed1b75d8cdb672d4f6564ccd112d50d85b33aee0436\" data-turbo=\"false\" data-view-component=\"true\" href=\"/Hack-with-Github/Awesome-Hacking\">Awesome-Hacking</a>]\n",
      "star_tag: <span aria-label=\"89172 users starred this repository\" class=\"Counter js-social-count\" data-plural-suffix=\"users starred this repository\" data-singular-suffix=\"user starred this repository\" data-turbo-replace=\"true\" data-view-component=\"true\" id=\"repo-stars-counter-star\" title=\"89,172\">89.2k</span>\n",
      "Error: star_tag is empty or invalid!\n",
      "a_tags: [<a class=\"Link\" data-hydro-click='{\"event_type\":\"explore.click\",\"payload\":{\"click_context\":\"REPOSITORY_CARD\",\"click_target\":\"OWNER\",\"click_visual_representation\":\"REPOSITORY_OWNER_HEADING\",\"actor_id\":null,\"record_id\":1295961,\"originating_url\":\"https://github.com/topics/android\",\"user_id\":null}}' data-hydro-click-hmac=\"666a2ea9e91b2d935e82c53598161d6401353c5abb3f3537970f4d96f556fb63\" data-turbo=\"false\" data-view-component=\"true\" href=\"/Solido\">Solido</a>, <a class=\"Link text-bold wb-break-word\" data-hydro-click='{\"event_type\":\"explore.click\",\"payload\":{\"click_context\":\"REPOSITORY_CARD\",\"click_target\":\"REPOSITORY\",\"click_visual_representation\":\"REPOSITORY_NAME_HEADING\",\"actor_id\":null,\"record_id\":90528830,\"originating_url\":\"https://github.com/topics/android\",\"user_id\":null}}' data-hydro-click-hmac=\"d516af1f762c747e08a3156b52b608f3ad855c7cf8cc7ba746499c18084cbc50\" data-turbo=\"false\" data-view-component=\"true\" href=\"/Solido/awesome-flutter\">awesome-flutter</a>]\n",
      "star_tag: <span aria-label=\"54846 users starred this repository\" class=\"Counter js-social-count\" data-plural-suffix=\"users starred this repository\" data-singular-suffix=\"user starred this repository\" data-turbo-replace=\"true\" data-view-component=\"true\" id=\"repo-stars-counter-star\" title=\"54,846\">54.8k</span>\n",
      "Error: star_tag is empty or invalid!\n",
      "a_tags: [<a class=\"Link\" data-hydro-click='{\"event_type\":\"explore.click\",\"payload\":{\"click_context\":\"REPOSITORY_CARD\",\"click_target\":\"OWNER\",\"click_visual_representation\":\"REPOSITORY_OWNER_HEADING\",\"actor_id\":null,\"record_id\":7366472,\"originating_url\":\"https://github.com/topics/android\",\"user_id\":null}}' data-hydro-click-hmac=\"7e6d62e95d63cb812646371c4e0d5766e536ed0e37e66d00962032c7d7ecb24e\" data-turbo=\"false\" data-view-component=\"true\" href=\"/tldr-pages\">tldr-pages</a>, <a class=\"Link text-bold wb-break-word\" data-hydro-click='{\"event_type\":\"explore.click\",\"payload\":{\"click_context\":\"REPOSITORY_CARD\",\"click_target\":\"REPOSITORY\",\"click_visual_representation\":\"REPOSITORY_NAME_HEADING\",\"actor_id\":null,\"record_id\":15019962,\"originating_url\":\"https://github.com/topics/android\",\"user_id\":null}}' data-hydro-click-hmac=\"7a6e6aa5ad54dda13cf8196e9493388bff8362887761ca03ac5c7e5ca7b5031f\" data-turbo=\"false\" data-view-component=\"true\" href=\"/tldr-pages/tldr\">tldr</a>]\n",
      "star_tag: <span aria-label=\"53725 users starred this repository\" class=\"Counter js-social-count\" data-plural-suffix=\"users starred this repository\" data-singular-suffix=\"user starred this repository\" data-turbo-replace=\"true\" data-view-component=\"true\" id=\"repo-stars-counter-star\" title=\"53,725\">53.7k</span>\n",
      "Error: star_tag is empty or invalid!\n",
      "a_tags: [<a class=\"Link\" data-hydro-click='{\"event_type\":\"explore.click\",\"payload\":{\"click_context\":\"REPOSITORY_CARD\",\"click_target\":\"OWNER\",\"click_visual_representation\":\"REPOSITORY_OWNER_HEADING\",\"actor_id\":null,\"record_id\":1833474,\"originating_url\":\"https://github.com/topics/android\",\"user_id\":null}}' data-hydro-click-hmac=\"a0a14eeb0ab4948dda1c6c78afd006f2037eec4950862ba0774901cbe78936c2\" data-turbo=\"false\" data-view-component=\"true\" href=\"/wasabeef\">wasabeef</a>, <a class=\"Link text-bold wb-break-word\" data-hydro-click='{\"event_type\":\"explore.click\",\"payload\":{\"click_context\":\"REPOSITORY_CARD\",\"click_target\":\"REPOSITORY\",\"click_visual_representation\":\"REPOSITORY_NAME_HEADING\",\"actor_id\":null,\"record_id\":28428729,\"originating_url\":\"https://github.com/topics/android\",\"user_id\":null}}' data-hydro-click-hmac=\"7adb3fcc225a7135248b8968250058881422e884daa7f13bb28551a49bb9b97d\" data-turbo=\"false\" data-view-component=\"true\" href=\"/wasabeef/awesome-android-ui\">awesome-android-ui</a>]\n",
      "star_tag: <span aria-label=\"51600 users starred this repository\" class=\"Counter js-social-count\" data-plural-suffix=\"users starred this repository\" data-singular-suffix=\"user starred this repository\" data-turbo-replace=\"true\" data-view-component=\"true\" id=\"repo-stars-counter-star\" title=\"51,600\">51.6k</span>\n",
      "Error: star_tag is empty or invalid!\n",
      "a_tags: [<a class=\"Link\" data-hydro-click='{\"event_type\":\"explore.click\",\"payload\":{\"click_context\":\"REPOSITORY_CARD\",\"click_target\":\"OWNER\",\"click_visual_representation\":\"REPOSITORY_OWNER_HEADING\",\"actor_id\":null,\"record_id\":1342004,\"originating_url\":\"https://github.com/topics/android\",\"user_id\":null}}' data-hydro-click-hmac=\"b4b38be50ed1769fd5856406e7829db7d845b35dfad04f93099cbf840cae04dd\" data-turbo=\"false\" data-view-component=\"true\" href=\"/google\">google</a>, <a class=\"Link text-bold wb-break-word\" data-hydro-click='{\"event_type\":\"explore.click\",\"payload\":{\"click_context\":\"REPOSITORY_CARD\",\"click_target\":\"REPOSITORY\",\"click_visual_representation\":\"REPOSITORY_NAME_HEADING\",\"actor_id\":null,\"record_id\":24953448,\"originating_url\":\"https://github.com/topics/android\",\"user_id\":null}}' data-hydro-click-hmac=\"0e2f34f303ee7372d86c64d7d874821e56419d05393ee53a8bb1ee9765d8d62d\" data-turbo=\"false\" data-view-component=\"true\" href=\"/google/material-design-icons\">material-design-icons</a>]\n",
      "star_tag: <span aria-label=\"51139 users starred this repository\" class=\"Counter js-social-count\" data-plural-suffix=\"users starred this repository\" data-singular-suffix=\"user starred this repository\" data-turbo-replace=\"true\" data-view-component=\"true\" id=\"repo-stars-counter-star\" title=\"51,139\">51.1k</span>\n",
      "Error: star_tag is empty or invalid!\n",
      "a_tags: [<a class=\"Link\" data-hydro-click='{\"event_type\":\"explore.click\",\"payload\":{\"click_context\":\"REPOSITORY_CARD\",\"click_target\":\"OWNER\",\"click_visual_representation\":\"REPOSITORY_OWNER_HEADING\",\"actor_id\":null,\"record_id\":1285584,\"originating_url\":\"https://github.com/topics/android\",\"user_id\":null}}' data-hydro-click-hmac=\"012c7ac4fc93d1a0d3f86b5712e52675407598b6e9807f6307cd6d532f65aab6\" data-turbo=\"false\" data-view-component=\"true\" href=\"/laurent22\">laurent22</a>, <a class=\"Link text-bold wb-break-word\" data-hydro-click='{\"event_type\":\"explore.click\",\"payload\":{\"click_context\":\"REPOSITORY_CARD\",\"click_target\":\"REPOSITORY\",\"click_visual_representation\":\"REPOSITORY_NAME_HEADING\",\"actor_id\":null,\"record_id\":79162682,\"originating_url\":\"https://github.com/topics/android\",\"user_id\":null}}' data-hydro-click-hmac=\"8a14573ef512b80ef50f19fa898e02f121ae99c9b15a299b9d895c07573609d2\" data-turbo=\"false\" data-view-component=\"true\" href=\"/laurent22/joplin\">joplin</a>]\n",
      "star_tag: <span aria-label=\"47822 users starred this repository\" class=\"Counter js-social-count\" data-plural-suffix=\"users starred this repository\" data-singular-suffix=\"user starred this repository\" data-turbo-replace=\"true\" data-view-component=\"true\" id=\"repo-stars-counter-star\" title=\"47,822\">47.8k</span>\n",
      "Error: star_tag is empty or invalid!\n",
      "a_tags: [<a class=\"Link\" data-hydro-click='{\"event_type\":\"explore.click\",\"payload\":{\"click_context\":\"REPOSITORY_CARD\",\"click_target\":\"OWNER\",\"click_visual_representation\":\"REPOSITORY_OWNER_HEADING\",\"actor_id\":null,\"record_id\":25003669,\"originating_url\":\"https://github.com/topics/android\",\"user_id\":null}}' data-hydro-click-hmac=\"37ac4f0c352ddc31df3a613e6025244ec4e19bebccc9bbd6959eaf5178767f4e\" data-turbo=\"false\" data-view-component=\"true\" href=\"/appwrite\">appwrite</a>, <a class=\"Link text-bold wb-break-word\" data-hydro-click='{\"event_type\":\"explore.click\",\"payload\":{\"click_context\":\"REPOSITORY_CARD\",\"click_target\":\"REPOSITORY\",\"click_visual_representation\":\"REPOSITORY_NAME_HEADING\",\"actor_id\":null,\"record_id\":180190854,\"originating_url\":\"https://github.com/topics/android\",\"user_id\":null}}' data-hydro-click-hmac=\"37e00e0f5be894aeba9f2b26222bb4e8aad28aa918a128ba5611c819e4aa8383\" data-turbo=\"false\" data-view-component=\"true\" href=\"/appwrite/appwrite\">appwrite</a>]\n",
      "star_tag: <span aria-label=\"47338 users starred this repository\" class=\"Counter js-social-count\" data-plural-suffix=\"users starred this repository\" data-singular-suffix=\"user starred this repository\" data-turbo-replace=\"true\" data-view-component=\"true\" id=\"repo-stars-counter-star\" title=\"47,338\">47.3k</span>\n",
      "Error: star_tag is empty or invalid!\n",
      "a_tags: [<a class=\"Link\" data-hydro-click='{\"event_type\":\"explore.click\",\"payload\":{\"click_context\":\"REPOSITORY_CARD\",\"click_target\":\"OWNER\",\"click_visual_representation\":\"REPOSITORY_OWNER_HEADING\",\"actor_id\":null,\"record_id\":82592,\"originating_url\":\"https://github.com/topics/android\",\"user_id\":null}}' data-hydro-click-hmac=\"847a93ecef74f5826cda58d8b84cc6b3b59ca6a17410bc2618186699cf96c6b7\" data-turbo=\"false\" data-view-component=\"true\" href=\"/square\">square</a>, <a class=\"Link text-bold wb-break-word\" data-hydro-click='{\"event_type\":\"explore.click\",\"payload\":{\"click_context\":\"REPOSITORY_CARD\",\"click_target\":\"REPOSITORY\",\"click_visual_representation\":\"REPOSITORY_NAME_HEADING\",\"actor_id\":null,\"record_id\":5152285,\"originating_url\":\"https://github.com/topics/android\",\"user_id\":null}}' data-hydro-click-hmac=\"403e034019faffbbaa7e27482d70f3728915a460f7ba23e9cb988513f5018b4e\" data-turbo=\"false\" data-view-component=\"true\" href=\"/square/okhttp\">okhttp</a>]\n",
      "star_tag: <span aria-label=\"46155 users starred this repository\" class=\"Counter js-social-count\" data-plural-suffix=\"users starred this repository\" data-singular-suffix=\"user starred this repository\" data-turbo-replace=\"true\" data-view-component=\"true\" id=\"repo-stars-counter-star\" title=\"46,155\">46.2k</span>\n",
      "Error: star_tag is empty or invalid!\n",
      "a_tags: [<a class=\"Link\" data-hydro-click='{\"event_type\":\"explore.click\",\"payload\":{\"click_context\":\"REPOSITORY_CARD\",\"click_target\":\"OWNER\",\"click_visual_representation\":\"REPOSITORY_OWNER_HEADING\",\"actor_id\":null,\"record_id\":32689599,\"originating_url\":\"https://github.com/topics/android\",\"user_id\":null}}' data-hydro-click-hmac=\"2930484e30b65b2c754d64e2ce52400d4a91204d296ff7c33898a6b7b00e6b57\" data-turbo=\"false\" data-view-component=\"true\" href=\"/android\">android</a>, <a class=\"Link text-bold wb-break-word\" data-hydro-click='{\"event_type\":\"explore.click\",\"payload\":{\"click_context\":\"REPOSITORY_CARD\",\"click_target\":\"REPOSITORY\",\"click_visual_representation\":\"REPOSITORY_NAME_HEADING\",\"actor_id\":null,\"record_id\":51148780,\"originating_url\":\"https://github.com/topics/android\",\"user_id\":null}}' data-hydro-click-hmac=\"9494edf0922135a34c21e13b0dab74dead6a58742877d2f8ace37dabdaac776e\" data-turbo=\"false\" data-view-component=\"true\" href=\"/android/architecture-samples\">architecture-samples</a>]\n",
      "star_tag: <span aria-label=\"44784 users starred this repository\" class=\"Counter js-social-count\" data-plural-suffix=\"users starred this repository\" data-singular-suffix=\"user starred this repository\" data-turbo-replace=\"true\" data-view-component=\"true\" id=\"repo-stars-counter-star\" title=\"44,784\">44.8k</span>\n",
      "Error: star_tag is empty or invalid!\n",
      "a_tags: [<a class=\"Link\" data-hydro-click='{\"event_type\":\"explore.click\",\"payload\":{\"click_context\":\"REPOSITORY_CARD\",\"click_target\":\"OWNER\",\"click_visual_representation\":\"REPOSITORY_OWNER_HEADING\",\"actor_id\":null,\"record_id\":82592,\"originating_url\":\"https://github.com/topics/android\",\"user_id\":null}}' data-hydro-click-hmac=\"847a93ecef74f5826cda58d8b84cc6b3b59ca6a17410bc2618186699cf96c6b7\" data-turbo=\"false\" data-view-component=\"true\" href=\"/square\">square</a>, <a class=\"Link text-bold wb-break-word\" data-hydro-click='{\"event_type\":\"explore.click\",\"payload\":{\"click_context\":\"REPOSITORY_CARD\",\"click_target\":\"REPOSITORY\",\"click_visual_representation\":\"REPOSITORY_NAME_HEADING\",\"actor_id\":null,\"record_id\":892275,\"originating_url\":\"https://github.com/topics/android\",\"user_id\":null}}' data-hydro-click-hmac=\"49f73326beabc65644bc36489adb739336b52b47414d4cf371eab0142babb7f9\" data-turbo=\"false\" data-view-component=\"true\" href=\"/square/retrofit\">retrofit</a>]\n",
      "star_tag: <span aria-label=\"43326 users starred this repository\" class=\"Counter js-social-count\" data-plural-suffix=\"users starred this repository\" data-singular-suffix=\"user starred this repository\" data-turbo-replace=\"true\" data-view-component=\"true\" id=\"repo-stars-counter-star\" title=\"43,326\">43.3k</span>\n",
      "Error: star_tag is empty or invalid!\n",
      "a_tags: [<a class=\"Link\" data-hydro-click='{\"event_type\":\"explore.click\",\"payload\":{\"click_context\":\"REPOSITORY_CARD\",\"click_target\":\"OWNER\",\"click_visual_representation\":\"REPOSITORY_OWNER_HEADING\",\"actor_id\":null,\"record_id\":118523,\"originating_url\":\"https://github.com/topics/android\",\"user_id\":null}}' data-hydro-click-hmac=\"815da9dcc36c328b13e719c3a9e7d9a35c63fde20f5fbfa86377cf2a26bf5e85\" data-turbo=\"false\" data-view-component=\"true\" href=\"/skylot\">skylot</a>, <a class=\"Link text-bold wb-break-word\" data-hydro-click='{\"event_type\":\"explore.click\",\"payload\":{\"click_context\":\"REPOSITORY_CARD\",\"click_target\":\"REPOSITORY\",\"click_visual_representation\":\"REPOSITORY_NAME_HEADING\",\"actor_id\":null,\"record_id\":8859474,\"originating_url\":\"https://github.com/topics/android\",\"user_id\":null}}' data-hydro-click-hmac=\"3b7417fbefd20a4993b9a03955f4a7d1a6adaea0c456825df2f8fe5c6a43ed90\" data-turbo=\"false\" data-view-component=\"true\" href=\"/skylot/jadx\">jadx</a>]\n",
      "star_tag: <span aria-label=\"42907 users starred this repository\" class=\"Counter js-social-count\" data-plural-suffix=\"users starred this repository\" data-singular-suffix=\"user starred this repository\" data-turbo-replace=\"true\" data-view-component=\"true\" id=\"repo-stars-counter-star\" title=\"42,907\">42.9k</span>\n",
      "Error: star_tag is empty or invalid!\n",
      "a_tags: [<a class=\"Link\" data-hydro-click='{\"event_type\":\"explore.click\",\"payload\":{\"click_context\":\"REPOSITORY_CARD\",\"click_target\":\"OWNER\",\"click_visual_representation\":\"REPOSITORY_OWNER_HEADING\",\"actor_id\":null,\"record_id\":5485517,\"originating_url\":\"https://github.com/topics/android\",\"user_id\":null}}' data-hydro-click-hmac=\"b80982cc4080675369e50929bd9e084601eb2af327a9940b29011d8dbab7e9a5\" data-turbo=\"false\" data-view-component=\"true\" href=\"/dcloudio\">dcloudio</a>, <a class=\"Link text-bold wb-break-word\" data-hydro-click='{\"event_type\":\"explore.click\",\"payload\":{\"click_context\":\"REPOSITORY_CARD\",\"click_target\":\"REPOSITORY\",\"click_visual_representation\":\"REPOSITORY_NAME_HEADING\",\"actor_id\":null,\"record_id\":140687430,\"originating_url\":\"https://github.com/topics/android\",\"user_id\":null}}' data-hydro-click-hmac=\"c0552d6eb466100bf1b7c8619a40e22e2ea95c75c1dc99de1f7703cd9da5e515\" data-turbo=\"false\" data-view-component=\"true\" href=\"/dcloudio/uni-app\">uni-app</a>]\n",
      "star_tag: <span aria-label=\"40436 users starred this repository\" class=\"Counter js-social-count\" data-plural-suffix=\"users starred this repository\" data-singular-suffix=\"user starred this repository\" data-turbo-replace=\"true\" data-view-component=\"true\" id=\"repo-stars-counter-star\" title=\"40,436\">40.4k</span>\n",
      "Error: star_tag is empty or invalid!\n",
      "a_tags: [<a class=\"Link\" data-hydro-click='{\"event_type\":\"explore.click\",\"payload\":{\"click_context\":\"REPOSITORY_CARD\",\"click_target\":\"OWNER\",\"click_visual_representation\":\"REPOSITORY_OWNER_HEADING\",\"actor_id\":null,\"record_id\":11098337,\"originating_url\":\"https://github.com/topics/android\",\"user_id\":null}}' data-hydro-click-hmac=\"667ba0e3eb3134319579ed4b83ccc7e91e20898fa7d56fc6ea154a839a37606a\" data-turbo=\"false\" data-view-component=\"true\" href=\"/fastlane\">fastlane</a>, <a class=\"Link text-bold wb-break-word\" data-hydro-click='{\"event_type\":\"explore.click\",\"payload\":{\"click_context\":\"REPOSITORY_CARD\",\"click_target\":\"REPOSITORY\",\"click_visual_representation\":\"REPOSITORY_NAME_HEADING\",\"actor_id\":null,\"record_id\":27442967,\"originating_url\":\"https://github.com/topics/android\",\"user_id\":null}}' data-hydro-click-hmac=\"1dbf1d2bf100aef020e94de2824a67c4d681655aa5597f8c30b0c418e9a6c327\" data-turbo=\"false\" data-view-component=\"true\" href=\"/fastlane/fastlane\">fastlane</a>]\n",
      "star_tag: <span aria-label=\"39910 users starred this repository\" class=\"Counter js-social-count\" data-plural-suffix=\"users starred this repository\" data-singular-suffix=\"user starred this repository\" data-turbo-replace=\"true\" data-view-component=\"true\" id=\"repo-stars-counter-star\" title=\"39,910\">39.9k</span>\n",
      "Error: star_tag is empty or invalid!\n",
      "a_tags: [<a class=\"Link\" data-hydro-click='{\"event_type\":\"explore.click\",\"payload\":{\"click_context\":\"REPOSITORY_CARD\",\"click_target\":\"OWNER\",\"click_visual_representation\":\"REPOSITORY_OWNER_HEADING\",\"actor_id\":null,\"record_id\":8104776,\"originating_url\":\"https://github.com/topics/android\",\"user_id\":null}}' data-hydro-click-hmac=\"f3c3b896e95e7178ead418fd58f93a6d7cd1bc49a9460ccc1f31484e8bc6f057\" data-turbo=\"false\" data-view-component=\"true\" href=\"/termux\">termux</a>, <a class=\"Link text-bold wb-break-word\" data-hydro-click='{\"event_type\":\"explore.click\",\"payload\":{\"click_context\":\"REPOSITORY_CARD\",\"click_target\":\"REPOSITORY\",\"click_visual_representation\":\"REPOSITORY_NAME_HEADING\",\"actor_id\":null,\"record_id\":44804216,\"originating_url\":\"https://github.com/topics/android\",\"user_id\":null}}' data-hydro-click-hmac=\"d35c3f893656305576c86c2e39c63846a588c8f7eecc1870e84d86c25dad210c\" data-turbo=\"false\" data-view-component=\"true\" href=\"/termux/termux-app\">termux-app</a>]\n",
      "star_tag: <span aria-label=\"39161 users starred this repository\" class=\"Counter js-social-count\" data-plural-suffix=\"users starred this repository\" data-singular-suffix=\"user starred this repository\" data-turbo-replace=\"true\" data-view-component=\"true\" id=\"repo-stars-counter-star\" title=\"39,161\">39.2k</span>\n",
      "Error: star_tag is empty or invalid!\n",
      "a_tags: [<a class=\"Link\" data-hydro-click='{\"event_type\":\"explore.click\",\"payload\":{\"click_context\":\"REPOSITORY_CARD\",\"click_target\":\"OWNER\",\"click_visual_representation\":\"REPOSITORY_OWNER_HEADING\",\"actor_id\":null,\"record_id\":31833384,\"originating_url\":\"https://github.com/topics/android\",\"user_id\":null}}' data-hydro-click-hmac=\"664b6598ed576b1a25ac937655203526152d0cffa4c2f29b206b0c615c794c9a\" data-turbo=\"false\" data-view-component=\"true\" href=\"/2dust\">2dust</a>, <a class=\"Link text-bold wb-break-word\" data-hydro-click='{\"event_type\":\"explore.click\",\"payload\":{\"click_context\":\"REPOSITORY_CARD\",\"click_target\":\"REPOSITORY\",\"click_visual_representation\":\"REPOSITORY_NAME_HEADING\",\"actor_id\":null,\"record_id\":186733095,\"originating_url\":\"https://github.com/topics/android\",\"user_id\":null}}' data-hydro-click-hmac=\"baf101b1762793f0d447bc696f9eb0c53d822a26e5fdc0743aaad10d73a93aef\" data-turbo=\"false\" data-view-component=\"true\" href=\"/2dust/v2rayNG\">v2rayNG</a>]\n",
      "star_tag: <span aria-label=\"38611 users starred this repository\" class=\"Counter js-social-count\" data-plural-suffix=\"users starred this repository\" data-singular-suffix=\"user starred this repository\" data-turbo-replace=\"true\" data-view-component=\"true\" id=\"repo-stars-counter-star\" title=\"38,611\">38.6k</span>\n",
      "Error: star_tag is empty or invalid!\n",
      "a_tags: [<a class=\"Link\" data-hydro-click='{\"event_type\":\"explore.click\",\"payload\":{\"click_context\":\"REPOSITORY_CARD\",\"click_target\":\"OWNER\",\"click_visual_representation\":\"REPOSITORY_OWNER_HEADING\",\"actor_id\":null,\"record_id\":6759734,\"originating_url\":\"https://github.com/topics/android\",\"user_id\":null}}' data-hydro-click-hmac=\"fd2c9a7486aaf86171ecfe8c8bd8c4e0482a0eabafed44901036c4461b9b3623\" data-turbo=\"false\" data-view-component=\"true\" href=\"/PhilJay\">PhilJay</a>, <a class=\"Link text-bold wb-break-word\" data-hydro-click='{\"event_type\":\"explore.click\",\"payload\":{\"click_context\":\"REPOSITORY_CARD\",\"click_target\":\"REPOSITORY\",\"click_visual_representation\":\"REPOSITORY_NAME_HEADING\",\"actor_id\":null,\"record_id\":19148949,\"originating_url\":\"https://github.com/topics/android\",\"user_id\":null}}' data-hydro-click-hmac=\"bcbcc7c740e675500dbc6133c6d9fac887116dfa89f06087ba111fd5a9dbd987\" data-turbo=\"false\" data-view-component=\"true\" href=\"/PhilJay/MPAndroidChart\">MPAndroidChart</a>]\n",
      "star_tag: <span aria-label=\"37821 users starred this repository\" class=\"Counter js-social-count\" data-plural-suffix=\"users starred this repository\" data-singular-suffix=\"user starred this repository\" data-turbo-replace=\"true\" data-view-component=\"true\" id=\"repo-stars-counter-star\" title=\"37,821\">37.8k</span>\n",
      "Error: star_tag is empty or invalid!\n"
     ]
    },
    {
     "data": {
      "text/plain": [
       "{'username': ['flutter',\n",
       "  'facebook',\n",
       "  'Genymobile',\n",
       "  'justjavac',\n",
       "  'Hack-with-Github',\n",
       "  'Solido',\n",
       "  'tldr-pages',\n",
       "  'wasabeef',\n",
       "  'google',\n",
       "  'laurent22',\n",
       "  'appwrite',\n",
       "  'square',\n",
       "  'android',\n",
       "  'square',\n",
       "  'skylot',\n",
       "  'dcloudio',\n",
       "  'fastlane',\n",
       "  'termux',\n",
       "  '2dust',\n",
       "  'PhilJay'],\n",
       " 'repo_url': ['flutter',\n",
       "  'react-native',\n",
       "  'scrcpy',\n",
       "  'free-programming-books-zh_CN',\n",
       "  'Awesome-Hacking',\n",
       "  'awesome-flutter',\n",
       "  'tldr',\n",
       "  'awesome-android-ui',\n",
       "  'material-design-icons',\n",
       "  'joplin',\n",
       "  'appwrite',\n",
       "  'okhttp',\n",
       "  'architecture-samples',\n",
       "  'retrofit',\n",
       "  'jadx',\n",
       "  'uni-app',\n",
       "  'fastlane',\n",
       "  'termux-app',\n",
       "  'v2rayNG',\n",
       "  'MPAndroidChart'],\n",
       " 'repo_name': ['/flutter/flutter',\n",
       "  '/facebook/react-native',\n",
       "  '/Genymobile/scrcpy',\n",
       "  '/justjavac/free-programming-books-zh_CN',\n",
       "  '/Hack-with-Github/Awesome-Hacking',\n",
       "  '/Solido/awesome-flutter',\n",
       "  '/tldr-pages/tldr',\n",
       "  '/wasabeef/awesome-android-ui',\n",
       "  '/google/material-design-icons',\n",
       "  '/laurent22/joplin',\n",
       "  '/appwrite/appwrite',\n",
       "  '/square/okhttp',\n",
       "  '/android/architecture-samples',\n",
       "  '/square/retrofit',\n",
       "  '/skylot/jadx',\n",
       "  '/dcloudio/uni-app',\n",
       "  '/fastlane/fastlane',\n",
       "  '/termux/termux-app',\n",
       "  '/2dust/v2rayNG',\n",
       "  '/PhilJay/MPAndroidChart'],\n",
       " 'star': [0, 0, 0, 0, 0, 0, 0, 0, 0, 0, 0, 0, 0, 0, 0, 0, 0, 0, 0, 0]}"
      ]
     },
     "execution_count": 107,
     "metadata": {},
     "output_type": "execute_result"
    }
   ],
   "source": [
    "get_topic_repo(get_topic_page(topics_url[4]))"
   ]
  },
  {
   "cell_type": "code",
   "execution_count": 108,
   "metadata": {},
   "outputs": [],
   "source": [
    "topic_repo_df = pd.DataFrame(topic_repo_dict)"
   ]
  },
  {
   "cell_type": "code",
   "execution_count": 109,
   "metadata": {},
   "outputs": [
    {
     "data": {
      "text/html": [
       "<div>\n",
       "<style scoped>\n",
       "    .dataframe tbody tr th:only-of-type {\n",
       "        vertical-align: middle;\n",
       "    }\n",
       "\n",
       "    .dataframe tbody tr th {\n",
       "        vertical-align: top;\n",
       "    }\n",
       "\n",
       "    .dataframe thead th {\n",
       "        text-align: right;\n",
       "    }\n",
       "</style>\n",
       "<table border=\"1\" class=\"dataframe\">\n",
       "  <thead>\n",
       "    <tr style=\"text-align: right;\">\n",
       "      <th></th>\n",
       "      <th>username</th>\n",
       "      <th>repo_url</th>\n",
       "      <th>repo_name</th>\n",
       "      <th>star</th>\n",
       "    </tr>\n",
       "  </thead>\n",
       "  <tbody>\n",
       "    <tr>\n",
       "      <th>0</th>\n",
       "      <td>mrdoob</td>\n",
       "      <td>three.js</td>\n",
       "      <td>/mrdoob/three.js</td>\n",
       "      <td>0</td>\n",
       "    </tr>\n",
       "    <tr>\n",
       "      <th>1</th>\n",
       "      <td>pmndrs</td>\n",
       "      <td>react-three-fiber</td>\n",
       "      <td>/pmndrs/react-three-fiber</td>\n",
       "      <td>0</td>\n",
       "    </tr>\n",
       "    <tr>\n",
       "      <th>2</th>\n",
       "      <td>libgdx</td>\n",
       "      <td>libgdx</td>\n",
       "      <td>/libgdx/libgdx</td>\n",
       "      <td>0</td>\n",
       "    </tr>\n",
       "    <tr>\n",
       "      <th>3</th>\n",
       "      <td>BabylonJS</td>\n",
       "      <td>Babylon.js</td>\n",
       "      <td>/BabylonJS/Babylon.js</td>\n",
       "      <td>0</td>\n",
       "    </tr>\n",
       "    <tr>\n",
       "      <th>4</th>\n",
       "      <td>FreeCAD</td>\n",
       "      <td>FreeCAD</td>\n",
       "      <td>/FreeCAD/FreeCAD</td>\n",
       "      <td>0</td>\n",
       "    </tr>\n",
       "    <tr>\n",
       "      <th>5</th>\n",
       "      <td>ssloy</td>\n",
       "      <td>tinyrenderer</td>\n",
       "      <td>/ssloy/tinyrenderer</td>\n",
       "      <td>0</td>\n",
       "    </tr>\n",
       "    <tr>\n",
       "      <th>6</th>\n",
       "      <td>lettier</td>\n",
       "      <td>3d-game-shaders-for-beginners</td>\n",
       "      <td>/lettier/3d-game-shaders-for-beginners</td>\n",
       "      <td>0</td>\n",
       "    </tr>\n",
       "    <tr>\n",
       "      <th>7</th>\n",
       "      <td>aframevr</td>\n",
       "      <td>aframe</td>\n",
       "      <td>/aframevr/aframe</td>\n",
       "      <td>0</td>\n",
       "    </tr>\n",
       "    <tr>\n",
       "      <th>8</th>\n",
       "      <td>blender</td>\n",
       "      <td>blender</td>\n",
       "      <td>/blender/blender</td>\n",
       "      <td>0</td>\n",
       "    </tr>\n",
       "    <tr>\n",
       "      <th>9</th>\n",
       "      <td>CesiumGS</td>\n",
       "      <td>cesium</td>\n",
       "      <td>/CesiumGS/cesium</td>\n",
       "      <td>0</td>\n",
       "    </tr>\n",
       "    <tr>\n",
       "      <th>10</th>\n",
       "      <td>4ian</td>\n",
       "      <td>GDevelop</td>\n",
       "      <td>/4ian/GDevelop</td>\n",
       "      <td>0</td>\n",
       "    </tr>\n",
       "    <tr>\n",
       "      <th>11</th>\n",
       "      <td>isl-org</td>\n",
       "      <td>Open3D</td>\n",
       "      <td>/isl-org/Open3D</td>\n",
       "      <td>0</td>\n",
       "    </tr>\n",
       "    <tr>\n",
       "      <th>12</th>\n",
       "      <td>MonoGame</td>\n",
       "      <td>MonoGame</td>\n",
       "      <td>/MonoGame/MonoGame</td>\n",
       "      <td>0</td>\n",
       "    </tr>\n",
       "    <tr>\n",
       "      <th>13</th>\n",
       "      <td>mapbox</td>\n",
       "      <td>mapbox-gl-js</td>\n",
       "      <td>/mapbox/mapbox-gl-js</td>\n",
       "      <td>0</td>\n",
       "    </tr>\n",
       "    <tr>\n",
       "      <th>14</th>\n",
       "      <td>metafizzy</td>\n",
       "      <td>zdog</td>\n",
       "      <td>/metafizzy/zdog</td>\n",
       "      <td>0</td>\n",
       "    </tr>\n",
       "    <tr>\n",
       "      <th>15</th>\n",
       "      <td>nerfstudio-project</td>\n",
       "      <td>nerfstudio</td>\n",
       "      <td>/nerfstudio-project/nerfstudio</td>\n",
       "      <td>0</td>\n",
       "    </tr>\n",
       "    <tr>\n",
       "      <th>16</th>\n",
       "      <td>timzhang642</td>\n",
       "      <td>3D-Machine-Learning</td>\n",
       "      <td>/timzhang642/3D-Machine-Learning</td>\n",
       "      <td>0</td>\n",
       "    </tr>\n",
       "    <tr>\n",
       "      <th>17</th>\n",
       "      <td>cocos</td>\n",
       "      <td>cocos-engine</td>\n",
       "      <td>/cocos/cocos-engine</td>\n",
       "      <td>0</td>\n",
       "    </tr>\n",
       "    <tr>\n",
       "      <th>18</th>\n",
       "      <td>FyroxEngine</td>\n",
       "      <td>Fyrox</td>\n",
       "      <td>/FyroxEngine/Fyrox</td>\n",
       "      <td>0</td>\n",
       "    </tr>\n",
       "    <tr>\n",
       "      <th>19</th>\n",
       "      <td>domlysz</td>\n",
       "      <td>BlenderGIS</td>\n",
       "      <td>/domlysz/BlenderGIS</td>\n",
       "      <td>0</td>\n",
       "    </tr>\n",
       "  </tbody>\n",
       "</table>\n",
       "</div>"
      ],
      "text/plain": [
       "              username                       repo_url  \\\n",
       "0               mrdoob                       three.js   \n",
       "1               pmndrs              react-three-fiber   \n",
       "2               libgdx                         libgdx   \n",
       "3            BabylonJS                     Babylon.js   \n",
       "4              FreeCAD                        FreeCAD   \n",
       "5                ssloy                   tinyrenderer   \n",
       "6              lettier  3d-game-shaders-for-beginners   \n",
       "7             aframevr                         aframe   \n",
       "8              blender                        blender   \n",
       "9             CesiumGS                         cesium   \n",
       "10                4ian                       GDevelop   \n",
       "11             isl-org                         Open3D   \n",
       "12            MonoGame                       MonoGame   \n",
       "13              mapbox                   mapbox-gl-js   \n",
       "14           metafizzy                           zdog   \n",
       "15  nerfstudio-project                     nerfstudio   \n",
       "16         timzhang642            3D-Machine-Learning   \n",
       "17               cocos                   cocos-engine   \n",
       "18         FyroxEngine                          Fyrox   \n",
       "19             domlysz                     BlenderGIS   \n",
       "\n",
       "                                 repo_name  star  \n",
       "0                         /mrdoob/three.js     0  \n",
       "1                /pmndrs/react-three-fiber     0  \n",
       "2                           /libgdx/libgdx     0  \n",
       "3                    /BabylonJS/Babylon.js     0  \n",
       "4                         /FreeCAD/FreeCAD     0  \n",
       "5                      /ssloy/tinyrenderer     0  \n",
       "6   /lettier/3d-game-shaders-for-beginners     0  \n",
       "7                         /aframevr/aframe     0  \n",
       "8                         /blender/blender     0  \n",
       "9                         /CesiumGS/cesium     0  \n",
       "10                          /4ian/GDevelop     0  \n",
       "11                         /isl-org/Open3D     0  \n",
       "12                      /MonoGame/MonoGame     0  \n",
       "13                    /mapbox/mapbox-gl-js     0  \n",
       "14                         /metafizzy/zdog     0  \n",
       "15          /nerfstudio-project/nerfstudio     0  \n",
       "16        /timzhang642/3D-Machine-Learning     0  \n",
       "17                     /cocos/cocos-engine     0  \n",
       "18                      /FyroxEngine/Fyrox     0  \n",
       "19                     /domlysz/BlenderGIS     0  "
      ]
     },
     "execution_count": 109,
     "metadata": {},
     "output_type": "execute_result"
    }
   ],
   "source": [
    "topic_repo_df"
   ]
  },
  {
   "cell_type": "code",
   "execution_count": null,
   "metadata": {},
   "outputs": [],
   "source": []
  }
 ],
 "metadata": {
  "kernelspec": {
   "display_name": "webscraper_env",
   "language": "python",
   "name": "python3"
  },
  "language_info": {
   "codemirror_mode": {
    "name": "ipython",
    "version": 3
   },
   "file_extension": ".py",
   "mimetype": "text/x-python",
   "name": "python",
   "nbconvert_exporter": "python",
   "pygments_lexer": "ipython3",
   "version": "3.11.7"
  }
 },
 "nbformat": 4,
 "nbformat_minor": 2
}
